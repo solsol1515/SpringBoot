{
 "cells": [
  {
   "cell_type": "markdown",
   "metadata": {},
   "source": [
    "---\n",
    "\n",
    "# 쇼핑몰 데이타 분석하기\n",
    "\n",
    "지그재그는 여성 패션 쇼핑몰들의 상품 정보를 통합적으로 제공하는 플랫폼으로 개인 취향 알고리즘을 통해 적절한 제품을 추천하여 유저 경험을 높이고 있습니다. 지그재그에 입점한 2,700여 개의 온라인 쇼핑몰들에서는 하루에 10,000여 개의 패션 아이템이 업데이트되며 한 달에 200만 명이 넘는 사용자들이 방문해 자신이 좋아하는 상품을 실시간으로 발견하고 있습니다. 런칭 2년 반 만에 1,000만 앱 다운로드를 돌파하며 대한민국 여성의 쇼핑 필수 앱으로 자리 잡았습니다.\n",
    "\n",
    "---"
   ]
  },
  {
   "cell_type": "markdown",
   "metadata": {},
   "source": [
    "## set options"
   ]
  },
  {
   "cell_type": "code",
   "execution_count": 1,
   "metadata": {},
   "outputs": [],
   "source": [
    "# 데이터를 다루는 library인 padas를 import합니다.\n",
    "import pandas as pd"
   ]
  },
  {
   "cell_type": "code",
   "execution_count": 2,
   "metadata": {},
   "outputs": [],
   "source": [
    "# 화면에 출력하는 데이터 프레임의 최대 row 수를 500으로 설정합니다.\n",
    "pd.set_option('display.max_rows', 500)\n",
    "\n",
    "# 화면에 출력하는 데이터 프레임의 최대 column 수를 500으로 설정합니다.\n",
    "pd.set_option('display.max_columns', 500)"
   ]
  },
  {
   "cell_type": "markdown",
   "metadata": {},
   "source": [
    " "
   ]
  },
  {
   "cell_type": "markdown",
   "metadata": {},
   "source": [
    "##  데이타가져오기\n",
    "\n",
    "**1. 주문 정보 가져오기** : 2016년 6월 11일 하루 주문 정보\n",
    "\n",
    "     - timestamp는 주문시각\n",
    "     - user_id는 주문을 한 유저의 고유 아이디,\n",
    "     - goods_id는 상품의 id\n",
    "     - shop_id는 쇼핑몰의 id\n",
    "     - price는 상품의 가격"
   ]
  },
  {
   "cell_type": "code",
   "execution_count": 3,
   "metadata": {
    "scrolled": true
   },
   "outputs": [
    {
     "data": {
      "text/html": [
       "<div>\n",
       "<style scoped>\n",
       "    .dataframe tbody tr th:only-of-type {\n",
       "        vertical-align: middle;\n",
       "    }\n",
       "\n",
       "    .dataframe tbody tr th {\n",
       "        vertical-align: top;\n",
       "    }\n",
       "\n",
       "    .dataframe thead th {\n",
       "        text-align: right;\n",
       "    }\n",
       "</style>\n",
       "<table border=\"1\" class=\"dataframe\">\n",
       "  <thead>\n",
       "    <tr style=\"text-align: right;\">\n",
       "      <th></th>\n",
       "      <th>timestamp</th>\n",
       "      <th>user_id</th>\n",
       "      <th>goods_id</th>\n",
       "      <th>shop_id</th>\n",
       "      <th>price</th>\n",
       "    </tr>\n",
       "  </thead>\n",
       "  <tbody>\n",
       "    <tr>\n",
       "      <th>0</th>\n",
       "      <td>2018-06-11 00:00:43.032</td>\n",
       "      <td>bvu0aLTqiFDoU-963xnr5nzQWTNLUMjx</td>\n",
       "      <td>1414</td>\n",
       "      <td>38</td>\n",
       "      <td>45000</td>\n",
       "    </tr>\n",
       "    <tr>\n",
       "      <th>1</th>\n",
       "      <td>2018-06-11 00:02:33.763</td>\n",
       "      <td>smDmRnykg61KajpxXKzQ0oNkrh2nuSBj</td>\n",
       "      <td>1351</td>\n",
       "      <td>12</td>\n",
       "      <td>9500</td>\n",
       "    </tr>\n",
       "    <tr>\n",
       "      <th>2</th>\n",
       "      <td>2018-06-11 00:04:06.364</td>\n",
       "      <td>EyGjKYtSqZgqJ1ddKCtH5XwGirTyOH2P</td>\n",
       "      <td>646</td>\n",
       "      <td>14</td>\n",
       "      <td>22000</td>\n",
       "    </tr>\n",
       "    <tr>\n",
       "      <th>3</th>\n",
       "      <td>2018-06-11 00:04:17.258</td>\n",
       "      <td>KQBGi33Zxh5Dgu0WEkOkjN0YqTT_wxC3</td>\n",
       "      <td>5901</td>\n",
       "      <td>46</td>\n",
       "      <td>29800</td>\n",
       "    </tr>\n",
       "    <tr>\n",
       "      <th>4</th>\n",
       "      <td>2018-06-11 00:05:26.010</td>\n",
       "      <td>lq1Je3voA3a0MouSFba3629lKCvweI24</td>\n",
       "      <td>5572</td>\n",
       "      <td>89</td>\n",
       "      <td>29000</td>\n",
       "    </tr>\n",
       "  </tbody>\n",
       "</table>\n",
       "</div>"
      ],
      "text/plain": [
       "                 timestamp                           user_id  goods_id  \\\n",
       "0  2018-06-11 00:00:43.032  bvu0aLTqiFDoU-963xnr5nzQWTNLUMjx      1414   \n",
       "1  2018-06-11 00:02:33.763  smDmRnykg61KajpxXKzQ0oNkrh2nuSBj      1351   \n",
       "2  2018-06-11 00:04:06.364  EyGjKYtSqZgqJ1ddKCtH5XwGirTyOH2P       646   \n",
       "3  2018-06-11 00:04:17.258  KQBGi33Zxh5Dgu0WEkOkjN0YqTT_wxC3      5901   \n",
       "4  2018-06-11 00:05:26.010  lq1Je3voA3a0MouSFba3629lKCvweI24      5572   \n",
       "\n",
       "   shop_id  price  \n",
       "0       38  45000  \n",
       "1       12   9500  \n",
       "2       14  22000  \n",
       "3       46  29800  \n",
       "4       89  29000  "
      ]
     },
     "execution_count": 3,
     "metadata": {},
     "output_type": "execute_result"
    }
   ],
   "source": [
    "\n",
    "order = pd.read_csv('./data/shoppingmall/order_info.csv')\n",
    "order.head()\n"
   ]
  },
  {
   "cell_type": "markdown",
   "metadata": {},
   "source": [
    "**2. order 테이블을 이용해 지그재그의 당일 매출 상위 10개 쇼핑몰을 구해주세요.**\n",
    "\n",
    "    (쇼핑몰별 매출 정보를 피벗 테이블을 이용)"
   ]
  },
  {
   "cell_type": "markdown",
   "metadata": {},
   "source": [
    "<table border=\"1\" class=\"dataframe\">\n",
    "  <thead>\n",
    "    <tr style=\"text-align: right;\">\n",
    "      <th></th>\n",
    "      <th>price</th>\n",
    "    </tr>\n",
    "    <tr>\n",
    "      <th>shop_id</th>\n",
    "      <th></th>\n",
    "    </tr>\n",
    "  </thead>\n",
    "  <tbody>\n",
    "    <tr>\n",
    "      <th>22</th>\n",
    "      <td>1365200</td>\n",
    "    </tr>\n",
    "    <tr>\n",
    "      <th>14</th>\n",
    "      <td>872000</td>\n",
    "    </tr>\n",
    "    <tr>\n",
    "      <th>63</th>\n",
    "      <td>710700</td>\n",
    "    </tr>\n",
    "    <tr>\n",
    "      <th>32</th>\n",
    "      <td>707900</td>\n",
    "    </tr>\n",
    "    <tr>\n",
    "      <th>126</th>\n",
    "      <td>669400</td>\n",
    "    </tr>\n",
    "    <tr>\n",
    "      <th>6</th>\n",
    "      <td>655900</td>\n",
    "    </tr>\n",
    "    <tr>\n",
    "      <th>11</th>\n",
    "      <td>653000</td>\n",
    "    </tr>\n",
    "    <tr>\n",
    "      <th>60</th>\n",
    "      <td>558300</td>\n",
    "    </tr>\n",
    "    <tr>\n",
    "      <th>19</th>\n",
    "      <td>518400</td>\n",
    "    </tr>\n",
    "    <tr>\n",
    "      <th>12</th>\n",
    "      <td>446900</td>\n",
    "    </tr>\n",
    "  </tbody>\n",
    "</table>"
   ]
  },
  {
   "cell_type": "code",
   "execution_count": 4,
   "metadata": {
    "scrolled": false
   },
   "outputs": [
    {
     "data": {
      "text/html": [
       "<div>\n",
       "<style scoped>\n",
       "    .dataframe tbody tr th:only-of-type {\n",
       "        vertical-align: middle;\n",
       "    }\n",
       "\n",
       "    .dataframe tbody tr th {\n",
       "        vertical-align: top;\n",
       "    }\n",
       "\n",
       "    .dataframe thead th {\n",
       "        text-align: right;\n",
       "    }\n",
       "</style>\n",
       "<table border=\"1\" class=\"dataframe\">\n",
       "  <thead>\n",
       "    <tr style=\"text-align: right;\">\n",
       "      <th></th>\n",
       "      <th>price</th>\n",
       "    </tr>\n",
       "    <tr>\n",
       "      <th>shop_id</th>\n",
       "      <th></th>\n",
       "    </tr>\n",
       "  </thead>\n",
       "  <tbody>\n",
       "    <tr>\n",
       "      <th>22</th>\n",
       "      <td>1365200</td>\n",
       "    </tr>\n",
       "    <tr>\n",
       "      <th>14</th>\n",
       "      <td>872000</td>\n",
       "    </tr>\n",
       "    <tr>\n",
       "      <th>63</th>\n",
       "      <td>710700</td>\n",
       "    </tr>\n",
       "    <tr>\n",
       "      <th>32</th>\n",
       "      <td>707900</td>\n",
       "    </tr>\n",
       "    <tr>\n",
       "      <th>126</th>\n",
       "      <td>669400</td>\n",
       "    </tr>\n",
       "    <tr>\n",
       "      <th>6</th>\n",
       "      <td>655900</td>\n",
       "    </tr>\n",
       "    <tr>\n",
       "      <th>11</th>\n",
       "      <td>653000</td>\n",
       "    </tr>\n",
       "    <tr>\n",
       "      <th>60</th>\n",
       "      <td>558300</td>\n",
       "    </tr>\n",
       "    <tr>\n",
       "      <th>19</th>\n",
       "      <td>518400</td>\n",
       "    </tr>\n",
       "    <tr>\n",
       "      <th>12</th>\n",
       "      <td>446900</td>\n",
       "    </tr>\n",
       "  </tbody>\n",
       "</table>\n",
       "</div>"
      ],
      "text/plain": [
       "           price\n",
       "shop_id         \n",
       "22       1365200\n",
       "14        872000\n",
       "63        710700\n",
       "32        707900\n",
       "126       669400\n",
       "6         655900\n",
       "11        653000\n",
       "60        558300\n",
       "19        518400\n",
       "12        446900"
      ]
     },
     "execution_count": 4,
     "metadata": {},
     "output_type": "execute_result"
    }
   ],
   "source": [
    "table = pd.pivot_table(order,\n",
    "                                   values = 'price',\n",
    "                                   index = 'shop_id',\n",
    "                                   aggfunc = 'sum')\n",
    "\n",
    "table.sort_values(( 'price'), ascending=False).head(10)"
   ]
  },
  {
   "cell_type": "markdown",
   "metadata": {},
   "source": [
    "**3. 판매 건수를 포함하여 피벗테이블을 만들어주세요. 또한, 상위 10개 쇼핑몰의 매출을 막대그래프로 보여주세요.**\n",
    "\n",
    "( 같은 횟수의 거래라도 제품의 가격이 비싸면 매출이 크게 나오게 되어있습니다. 상대적으로 저렴한 물품을 파는 쇼핑몰들은 결제 건수에 비해 매출이 적을 수 있기 때문에 매출과 결제 건수를 함께 볼 수 있는 피벗테이블 작성 )"
   ]
  },
  {
   "cell_type": "markdown",
   "metadata": {},
   "source": [
    "<table border=\"1\" class=\"dataframe\">\n",
    "  <thead>\n",
    "    <tr>\n",
    "      <th></th>\n",
    "      <th>sum</th>\n",
    "      <th>count</th>\n",
    "    </tr>\n",
    "    <tr>\n",
    "      <th></th>\n",
    "      <th>price</th>\n",
    "      <th>price</th>\n",
    "    </tr>\n",
    "    <tr>\n",
    "      <th>shop_id</th>\n",
    "      <th></th>\n",
    "      <th></th>\n",
    "    </tr>\n",
    "  </thead>\n",
    "  <tbody>\n",
    "    <tr>\n",
    "      <th>22</th>\n",
    "      <td>1365200</td>\n",
    "      <td>99</td>\n",
    "    </tr>\n",
    "    <tr>\n",
    "      <th>12</th>\n",
    "      <td>446900</td>\n",
    "      <td>42</td>\n",
    "    </tr>\n",
    "    <tr>\n",
    "      <th>126</th>\n",
    "      <td>669400</td>\n",
    "      <td>39</td>\n",
    "    </tr>\n",
    "    <tr>\n",
    "      <th>32</th>\n",
    "      <td>707900</td>\n",
    "      <td>37</td>\n",
    "    </tr>\n",
    "    <tr>\n",
    "      <th>14</th>\n",
    "      <td>872000</td>\n",
    "      <td>30</td>\n",
    "    </tr>\n",
    "    <tr>\n",
    "      <th>63</th>\n",
    "      <td>710700</td>\n",
    "      <td>27</td>\n",
    "    </tr>\n",
    "    <tr>\n",
    "      <th>6</th>\n",
    "      <td>655900</td>\n",
    "      <td>24</td>\n",
    "    </tr>\n",
    "    <tr>\n",
    "      <th>60</th>\n",
    "      <td>558300</td>\n",
    "      <td>23</td>\n",
    "    </tr>\n",
    "    <tr>\n",
    "      <th>28</th>\n",
    "      <td>389270</td>\n",
    "      <td>20</td>\n",
    "    </tr>\n",
    "    <tr>\n",
    "      <th>19</th>\n",
    "      <td>518400</td>\n",
    "      <td>19</td>\n",
    "    </tr>\n",
    "  </tbody>\n",
    "</table>"
   ]
  },
  {
   "cell_type": "markdown",
   "metadata": {},
   "source": [
    "![](https://i.imgur.com/T6VRYf6.png)"
   ]
  },
  {
   "cell_type": "code",
   "execution_count": 5,
   "metadata": {},
   "outputs": [],
   "source": [
    "# 여기에 코딩\n",
    "\n",
    "\n",
    "\n"
   ]
  },
  {
   "cell_type": "markdown",
   "metadata": {},
   "source": [
    "**4. 시간대별 매출을 구하려고 합니다. lineplot을 이용하여 6월 11일의 시간대별 매출을 시각화 해주세요.**\n",
    "\n",
    "\n",
    "지그재그 이용자들의 구매 패턴을 알아보려고 합니다. timestamp를 to_datetime을 이용하여 datetime 자료형으로 만든 뒤, 이를 이용하여 시간대별 총 매출량을 구해주세요.\n",
    "x를 timestamp, y를 price로 놓는 경우 다음과 같은 그래프가 나오게 됩니다. "
   ]
  },
  {
   "cell_type": "markdown",
   "metadata": {},
   "source": [
    "![](https://i.imgur.com/5cqEAAj.png)"
   ]
  },
  {
   "cell_type": "code",
   "execution_count": 6,
   "metadata": {
    "scrolled": true
   },
   "outputs": [
    {
     "ename": "NameError",
     "evalue": "name 'sns' is not defined",
     "output_type": "error",
     "traceback": [
      "\u001b[1;31m---------------------------------------------------------------------------\u001b[0m",
      "\u001b[1;31mNameError\u001b[0m                                 Traceback (most recent call last)",
      "\u001b[1;32m<ipython-input-6-3ed7449fb2b7>\u001b[0m in \u001b[0;36m<module>\u001b[1;34m\u001b[0m\n\u001b[0;32m      1\u001b[0m \u001b[1;32mimport\u001b[0m \u001b[0mmatplotlib\u001b[0m \u001b[1;32mas\u001b[0m \u001b[0mmpl\u001b[0m\u001b[1;33m\u001b[0m\u001b[1;33m\u001b[0m\u001b[0m\n\u001b[0;32m      2\u001b[0m \u001b[1;33m\u001b[0m\u001b[0m\n\u001b[1;32m----> 3\u001b[1;33m \u001b[0msns\u001b[0m\u001b[1;33m.\u001b[0m\u001b[0mset_style\u001b[0m\u001b[1;33m(\u001b[0m\u001b[1;34m'whitegrid'\u001b[0m\u001b[1;33m)\u001b[0m \u001b[1;31m#스타일은 원하는 것을 사용하세요.\u001b[0m\u001b[1;33m\u001b[0m\u001b[1;33m\u001b[0m\u001b[0m\n\u001b[0m\u001b[0;32m      4\u001b[0m \u001b[1;33m\u001b[0m\u001b[0m\n\u001b[0;32m      5\u001b[0m \u001b[0mmpl\u001b[0m\u001b[1;33m.\u001b[0m\u001b[0mrc\u001b[0m\u001b[1;33m(\u001b[0m\u001b[1;34m'font'\u001b[0m\u001b[1;33m,\u001b[0m \u001b[0mfamily\u001b[0m\u001b[1;33m=\u001b[0m\u001b[1;34m'Malgun Gothic'\u001b[0m\u001b[1;33m)\u001b[0m \u001b[1;31m# Mac의 경우는 AppleGothic, 윈도우의 경우는 Malgun Gothic을 사용하면 됩니다 :)\u001b[0m\u001b[1;33m\u001b[0m\u001b[1;33m\u001b[0m\u001b[0m\n",
      "\u001b[1;31mNameError\u001b[0m: name 'sns' is not defined"
     ]
    }
   ],
   "source": [
    "import matplotlib as mpl\n",
    "\n",
    "sns.set_style('whitegrid') #스타일은 원하는 것을 사용하세요.\n",
    "\n",
    "mpl.rc('font', family='Malgun Gothic') # Mac의 경우는 AppleGothic, 윈도우의 경우는 Malgun Gothic을 사용하면 됩니다 :) \n",
    "mpl.rc('axes', unicode_minus=False)\n"
   ]
  },
  {
   "cell_type": "code",
   "execution_count": null,
   "metadata": {},
   "outputs": [],
   "source": [
    "# 여기에 코딩\n",
    "\n",
    "\n"
   ]
  },
  {
   "cell_type": "markdown",
   "metadata": {},
   "source": [
    "**5. 위의 시각화를 구간화(binning) 작업을 거쳐 보기 좋은 형태로 만들어주세요.**"
   ]
  },
  {
   "cell_type": "markdown",
   "metadata": {},
   "source": [
    "위의 시각화는 적절하지 못한 시각화입니다. 정확하게는 x시 00분 ~ x시 59분 까지의 매출을 시간대별로 모두 합하는 binning 과정을 거친 뒤 시각화를 진행해야 원하는 결과를 얻을 수 있습니다.\n",
    "\n",
    "order 테이블에 로그의 발생 시간을 나타내는 hour 칼럼을 추가한 뒤, pivot_table을 이용하여 시간대별 매출을 구해주세요. 그리고, 이를 이용해 아래와 같은 그래프를 만들어 주세요.\n",
    "\n",
    "- order['hour'] = order['timestamp'].dt.hour"
   ]
  },
  {
   "cell_type": "markdown",
   "metadata": {},
   "source": [
    "*lineplot을 사용하는 경우*\n",
    "![](https://i.imgur.com/sGVLJKi.png)\n",
    "\n",
    "*pointplot을 사용하는 경우*\n",
    "![](https://i.imgur.com/hYuKVqE.png)"
   ]
  },
  {
   "cell_type": "code",
   "execution_count": null,
   "metadata": {},
   "outputs": [],
   "source": [
    "# 여기에 코딩\n",
    "\n",
    "\n"
   ]
  },
  {
   "cell_type": "markdown",
   "metadata": {},
   "source": [
    "**6 . user 테이블을 불러와 order 테이블과 병합해주세요.**"
   ]
  },
  {
   "cell_type": "markdown",
   "metadata": {},
   "source": [
    "\n",
    "user 테이블에는 고객의 고유 아이디를 나타내는 user_id, 그리고 접속 기기정보를 나타내는 os, 그리고 나이정보 age가 있습니다. 이를 이용해 top 10 쇼핑몰 매출이 어떤 연령층에서 발생했는지 분석하고자 합니다. \n",
    "\n",
    "데이터베이스에서 user 테이블을 불러온 뒤, order 테이블과 병합해주세요.\n",
    "\n",
    "<table border=\"1\" class=\"dataframe\">\n",
    "  <thead>\n",
    "    <tr style=\"text-align: right;\">\n",
    "      <th></th>\n",
    "      <th>timestamp</th>\n",
    "      <th>user_id</th>\n",
    "      <th>goods_id</th>\n",
    "      <th>shop_id</th>\n",
    "      <th>price</th>\n",
    "      <th>hour</th>\n",
    "      <th>os</th>\n",
    "      <th>age</th>\n",
    "    </tr>\n",
    "  </thead>\n",
    "  <tbody>\n",
    "    <tr>\n",
    "      <th>0</th>\n",
    "      <td>2018-06-11 00:00:43.032</td>\n",
    "      <td>bvu0aLTqiFDoU-963xnr5nzQWTNLUMjx</td>\n",
    "      <td>1414</td>\n",
    "      <td>38</td>\n",
    "      <td>45000</td>\n",
    "      <td>0</td>\n",
    "      <td>iOS</td>\n",
    "      <td>39</td>\n",
    "    </tr>\n",
    "    <tr>\n",
    "      <th>1</th>\n",
    "      <td>2018-06-11 00:02:33.763</td>\n",
    "      <td>smDmRnykg61KajpxXKzQ0oNkrh2nuSBj</td>\n",
    "      <td>1351</td>\n",
    "      <td>12</td>\n",
    "      <td>9500</td>\n",
    "      <td>0</td>\n",
    "      <td>And</td>\n",
    "      <td>17</td>\n",
    "    </tr>\n",
    "    <tr>\n",
    "      <th>2</th>\n",
    "      <td>2018-06-11 00:04:06.364</td>\n",
    "      <td>EyGjKYtSqZgqJ1ddKCtH5XwGirTyOH2P</td>\n",
    "      <td>646</td>\n",
    "      <td>14</td>\n",
    "      <td>22000</td>\n",
    "      <td>0</td>\n",
    "      <td>And</td>\n",
    "      <td>-1</td>\n",
    "    </tr>\n",
    "    <tr>\n",
    "      <th>3</th>\n",
    "      <td>2018-06-11 00:04:17.258</td>\n",
    "      <td>KQBGi33Zxh5Dgu0WEkOkjN0YqTT_wxC3</td>\n",
    "      <td>5901</td>\n",
    "      <td>46</td>\n",
    "      <td>29800</td>\n",
    "      <td>0</td>\n",
    "      <td>And</td>\n",
    "      <td>34</td>\n",
    "    </tr>\n",
    "    <tr>\n",
    "      <th>4</th>\n",
    "      <td>2018-06-11 00:05:26.010</td>\n",
    "      <td>lq1Je3voA3a0MouSFba3629lKCvweI24</td>\n",
    "      <td>5572</td>\n",
    "      <td>89</td>\n",
    "      <td>29000</td>\n",
    "      <td>0</td>\n",
    "      <td>And</td>\n",
    "      <td>17</td>\n",
    "    </tr>\n",
    "  </tbody>\n",
    "</table>"
   ]
  },
  {
   "cell_type": "code",
   "execution_count": null,
   "metadata": {
    "scrolled": true
   },
   "outputs": [],
   "source": [
    "# 여기에 코딩\n",
    "\n",
    "\n"
   ]
  },
  {
   "cell_type": "markdown",
   "metadata": {},
   "source": [
    "**7. 매출 Top 10 쇼핑몰 구매자들의 연령대를 쇼핑몰별로 시각화하여 보여주세요.**"
   ]
  },
  {
   "cell_type": "markdown",
   "metadata": {},
   "source": [
    "위의 병합된 테이블을 이용하여, 당일 매출 Top 10 쇼핑몰에서 구매를 한 고객들의 연령대 분포를 시각화로 표현하고자 합니다. 이를 이용해 쇼핑몰이 설정한 타겟 연령대와 실제 구매층이 일치하는지를 비교해보고자 합니다.\n",
    "\n",
    "나이 정보가 없는 경우는 -1이 입력되어 있기 때문에 이를 처리한 다음 시각화를 해야 합니다. 시각화 결과가 아래의 둘 중 하나가 나오게 해주세요."
   ]
  },
  {
   "cell_type": "markdown",
   "metadata": {},
   "source": [
    "![](https://i.imgur.com/roHlnXi.png)"
   ]
  },
  {
   "cell_type": "code",
   "execution_count": null,
   "metadata": {},
   "outputs": [],
   "source": [
    "# 위의 병합된 테이블을 이용하여, 당일 매출 Top 10 쇼핑몰에서 구매를 한 고객들의 연령대 분포를 확인하고자 하는데\n",
    "# 나이 정보가 없는 경우는 -1이 입력되어 있기 때문에 이를 처리한다\n",
    "\n",
    "\n",
    "# 여기에 코딩\n",
    "\n",
    "\n",
    "\n",
    "\n"
   ]
  },
  {
   "cell_type": "markdown",
   "metadata": {},
   "source": [
    "**8. user 테이블에 연령대를 나타내는 칼럼을 만들어주세요. 그리고 쇼핑몰이 설정한 타겟 연령대와 실제로 구매를 한 고객의 연령과 일치하는지를 검증해주세요.**"
   ]
  },
  {
   "cell_type": "markdown",
   "metadata": {},
   "source": [
    "수행해야 할 작업은 총 3단계입니다.\n",
    "\n",
    "    1. 실제 나이를 바탕으로 user 테이블에 연령대 칼럼을 만들기\n",
    "    2. shop 테이블을 불러와 user, order 테이블과 병합하기\n",
    "    3. 쇼핑몰의 타겟 연령대와 해당 쇼핑몰에서의 결제를 한 고객의 연령대를 비교하기"
   ]
  },
  {
   "cell_type": "markdown",
   "metadata": {},
   "source": [
    "아래의 함수를 이용해 user 테이블에 연령대를 만들어주세요."
   ]
  },
  {
   "cell_type": "code",
   "execution_count": null,
   "metadata": {},
   "outputs": [],
   "source": [
    "def make_generation(age):\n",
    "    if age == -1:\n",
    "        return '미입력'\n",
    "    elif age // 10 >= 4:\n",
    "        return \"30대 후반\"\n",
    "    elif age // 10 == 1:\n",
    "        return \"10대\"\n",
    "    elif age % 10 < 3:\n",
    "        return str(age // 10 * 10) + f\"대 초반\"\n",
    "    elif age % 10 <= 6:\n",
    "        return str(age // 10 * 10) + f\"대 중반\"\n",
    "    else:\n",
    "        return str(age // 10 * 10) + f\"대 후반\"\n",
    "\n",
    "    \n",
    "print(make_generation(10))\n",
    "print(make_generation(23))\n",
    "print(make_generation(29))\n",
    "print(make_generation(32))\n",
    "print(make_generation(35))\n",
    "print(make_generation(40))"
   ]
  },
  {
   "cell_type": "code",
   "execution_count": null,
   "metadata": {},
   "outputs": [],
   "source": [
    "age_list = ['10대', '20대 초반', '20대 중반', '20대 후반', '30대 초반', '30대 중반', '30대 후반']\n",
    "for i in age_list:\n",
    "    user[\"연령대\"] = user['age'].map(make_generation)\n",
    "user.head()"
   ]
  },
  {
   "cell_type": "markdown",
   "metadata": {},
   "source": [
    "shop 데이타를 불러와서 user, order 테이블과 병합해주세요.\n",
    "\n",
    "병합 결과는 다음과 같게 됩니다.\n",
    "\n",
    "<table border=\"1\" class=\"dataframe\">\n",
    "  <thead>\n",
    "    <tr style=\"text-align: right;\">\n",
    "      <th></th>\n",
    "      <th>timestamp</th>\n",
    "      <th>user_id</th>\n",
    "      <th>goods_id</th>\n",
    "      <th>shop_id</th>\n",
    "      <th>price</th>\n",
    "      <th>hour</th>\n",
    "      <th>os</th>\n",
    "      <th>age_x</th>\n",
    "      <th>연령대</th>\n",
    "      <th>name</th>\n",
    "      <th>category</th>\n",
    "      <th>age_y</th>\n",
    "      <th>style</th>\n",
    "    </tr>\n",
    "  </thead>\n",
    "  <tbody>\n",
    "    <tr>\n",
    "      <th>0</th>\n",
    "      <td>2018-06-11 00:00:43.032</td>\n",
    "      <td>bvu0aLTqiFDoU-963xnr5nzQWTNLUMjx</td>\n",
    "      <td>1414</td>\n",
    "      <td>38</td>\n",
    "      <td>45000</td>\n",
    "      <td>0</td>\n",
    "      <td>iOS</td>\n",
    "      <td>39</td>\n",
    "      <td>30대 후반</td>\n",
    "      <td>Mabel</td>\n",
    "      <td>의류</td>\n",
    "      <td>20대 후반/30대 초반/30대 중반</td>\n",
    "      <td>모던시크/페미닌</td>\n",
    "    </tr>\n",
    "    <tr>\n",
    "      <th>1</th>\n",
    "      <td>2018-06-11 07:33:39.823</td>\n",
    "      <td>ni3NQK35j-YaSxli-C_Sz7ZmQqOwMljL</td>\n",
    "      <td>2278</td>\n",
    "      <td>38</td>\n",
    "      <td>37000</td>\n",
    "      <td>7</td>\n",
    "      <td>And</td>\n",
    "      <td>32</td>\n",
    "      <td>30대 초반</td>\n",
    "      <td>Mabel</td>\n",
    "      <td>의류</td>\n",
    "      <td>20대 후반/30대 초반/30대 중반</td>\n",
    "      <td>모던시크/페미닌</td>\n",
    "    </tr>\n",
    "    <tr>\n",
    "      <th>2</th>\n",
    "      <td>2018-06-11 12:56:27.867</td>\n",
    "      <td>MnvhmV0tA89bN9TLXgRTbLza689bTkT9</td>\n",
    "      <td>5513</td>\n",
    "      <td>38</td>\n",
    "      <td>31000</td>\n",
    "      <td>12</td>\n",
    "      <td>And</td>\n",
    "      <td>37</td>\n",
    "      <td>30대 후반</td>\n",
    "      <td>Mabel</td>\n",
    "      <td>의류</td>\n",
    "      <td>20대 후반/30대 초반/30대 중반</td>\n",
    "      <td>모던시크/페미닌</td>\n",
    "    </tr>\n",
    "    <tr>\n",
    "      <th>3</th>\n",
    "      <td>2018-06-11 22:57:11.582</td>\n",
    "      <td>3Vo9NP0qU_176pgbqk6Cu-CY7kpJ2-WB</td>\n",
    "      <td>7026</td>\n",
    "      <td>38</td>\n",
    "      <td>17100</td>\n",
    "      <td>22</td>\n",
    "      <td>iOS</td>\n",
    "      <td>34</td>\n",
    "      <td>30대 중반</td>\n",
    "      <td>Mabel</td>\n",
    "      <td>의류</td>\n",
    "      <td>20대 후반/30대 초반/30대 중반</td>\n",
    "      <td>모던시크/페미닌</td>\n",
    "    </tr>\n",
    "    <tr>\n",
    "      <th>4</th>\n",
    "      <td>2018-06-11 00:02:33.763</td>\n",
    "      <td>smDmRnykg61KajpxXKzQ0oNkrh2nuSBj</td>\n",
    "      <td>1351</td>\n",
    "      <td>12</td>\n",
    "      <td>9500</td>\n",
    "      <td>0</td>\n",
    "      <td>And</td>\n",
    "      <td>17</td>\n",
    "      <td>10대 후반</td>\n",
    "      <td>Rachel</td>\n",
    "      <td>의류</td>\n",
    "      <td>10대/20대 초반</td>\n",
    "      <td>러블리/심플베이직</td>\n",
    "    </tr>\n",
    "  </tbody>\n",
    "</table>"
   ]
  },
  {
   "cell_type": "code",
   "execution_count": null,
   "metadata": {},
   "outputs": [],
   "source": [
    "# 여기에 코딩\n",
    "\n",
    "\n",
    "\n",
    "\n",
    "\n"
   ]
  },
  {
   "cell_type": "markdown",
   "metadata": {},
   "source": [
    "병합한 테이블을 이용하여 '거래연령 일치여부' 칼럼을 아래의 칼럼을 이용하여 만들어 주세요. 각 열이 아닌 각 행에 함수를 적용할 때는 `apply(function, axis=1)`을 이용해야 합니다."
   ]
  },
  {
   "cell_type": "code",
   "execution_count": null,
   "metadata": {},
   "outputs": [],
   "source": [
    "def check_generation(row):\n",
    "    if row['category'] == '의류' and row['연령대'] == '미입력':\n",
    "        return True\n",
    "    else:\n",
    "        return row['연령대'] in str(row['age_y'])"
   ]
  },
  {
   "cell_type": "code",
   "execution_count": null,
   "metadata": {},
   "outputs": [],
   "source": [
    "merged_table['거래연령 일치여부'] = merged_table.apply(check_generation, axis=1)\n",
    "merged_table.head(2)"
   ]
  },
  {
   "cell_type": "markdown",
   "metadata": {},
   "source": [
    "피벗 테이블을 이용한 결과가 다음과 같이 나오게 됩니다.\n",
    "\n",
    "\n",
    "<table border=\"1\" class=\"dataframe\">\n",
    "  <thead>\n",
    "    <tr>\n",
    "      <th></th>\n",
    "      <th>mean</th>\n",
    "      <th>count</th>\n",
    "    </tr>\n",
    "    <tr>\n",
    "      <th></th>\n",
    "      <th>거래연령 일치여부</th>\n",
    "      <th>거래연령 일치여부</th>\n",
    "    </tr>\n",
    "    <tr>\n",
    "      <th>shop_id</th>\n",
    "      <th></th>\n",
    "      <th></th>\n",
    "    </tr>\n",
    "  </thead>\n",
    "  <tbody>\n",
    "    <tr>\n",
    "      <th>1</th>\n",
    "      <td>0.666667</td>\n",
    "      <td>3</td>\n",
    "    </tr>\n",
    "    <tr>\n",
    "      <th>2</th>\n",
    "      <td>0.937500</td>\n",
    "      <td>16</td>\n",
    "    </tr>\n",
    "    <tr>\n",
    "      <th>3</th>\n",
    "      <td>0.400000</td>\n",
    "      <td>5</td>\n",
    "    </tr>\n",
    "    <tr>\n",
    "      <th>4</th>\n",
    "      <td>1.000000</td>\n",
    "      <td>1</td>\n",
    "    </tr>\n",
    "    <tr>\n",
    "      <th>5</th>\n",
    "      <td>0.000000</td>\n",
    "      <td>1</td>\n",
    "    </tr>\n",
    "  </tbody>\n",
    "</table>"
   ]
  },
  {
   "cell_type": "code",
   "execution_count": null,
   "metadata": {
    "scrolled": true
   },
   "outputs": [],
   "source": [
    "table = merged_table.pivot_table(values='거래연령 일치여부',\n",
    "                                                    index='shop_id',\n",
    "                                                    aggfunc=['mean', 'count'])\n",
    "\n",
    "table.head()"
   ]
  },
  {
   "cell_type": "markdown",
   "metadata": {},
   "source": [
    "위의 정보를 Top 10 쇼핑몰에 대해 뽑아보면 다음과 같은 결과가 나옵니다. "
   ]
  },
  {
   "cell_type": "markdown",
   "metadata": {},
   "source": [
    "`table[table.index.isin(top10_index)]`\n",
    "\n",
    "<table border=\"1\" class=\"dataframe\">\n",
    "  <thead>\n",
    "    <tr>\n",
    "      <th></th>\n",
    "      <th>mean</th>\n",
    "      <th>count</th>\n",
    "    </tr>\n",
    "    <tr>\n",
    "      <th></th>\n",
    "      <th>거래연령 일치여부</th>\n",
    "      <th>거래연령 일치여부</th>\n",
    "    </tr>\n",
    "    <tr>\n",
    "      <th>shop_id</th>\n",
    "      <th></th>\n",
    "      <th></th>\n",
    "    </tr>\n",
    "  </thead>\n",
    "  <tbody>\n",
    "    <tr>\n",
    "      <th>6</th>\n",
    "      <td>0.750000</td>\n",
    "      <td>24</td>\n",
    "    </tr>\n",
    "    <tr>\n",
    "      <th>11</th>\n",
    "      <td>0.684211</td>\n",
    "      <td>19</td>\n",
    "    </tr>\n",
    "    <tr>\n",
    "      <th>12</th>\n",
    "      <td>0.857143</td>\n",
    "      <td>42</td>\n",
    "    </tr>\n",
    "    <tr>\n",
    "      <th>14</th>\n",
    "      <td>0.566667</td>\n",
    "      <td>30</td>\n",
    "    </tr>\n",
    "    <tr>\n",
    "      <th>19</th>\n",
    "      <td>0.789474</td>\n",
    "      <td>19</td>\n",
    "    </tr>\n",
    "    <tr>\n",
    "      <th>22</th>\n",
    "      <td>0.929293</td>\n",
    "      <td>99</td>\n",
    "    </tr>\n",
    "    <tr>\n",
    "      <th>32</th>\n",
    "      <td>0.540541</td>\n",
    "      <td>37</td>\n",
    "    </tr>\n",
    "    <tr>\n",
    "      <th>60</th>\n",
    "      <td>0.695652</td>\n",
    "      <td>23</td>\n",
    "    </tr>\n",
    "    <tr>\n",
    "      <th>63</th>\n",
    "      <td>0.000000</td>\n",
    "      <td>27</td>\n",
    "    </tr>\n",
    "    <tr>\n",
    "      <th>126</th>\n",
    "      <td>0.000000</td>\n",
    "      <td>39</td>\n",
    "    </tr>\n",
    "  </tbody>\n",
    "</table>"
   ]
  },
  {
   "cell_type": "code",
   "execution_count": null,
   "metadata": {
    "scrolled": true
   },
   "outputs": [],
   "source": [
    "table[table.index.isin(top10_index)]"
   ]
  },
  {
   "cell_type": "markdown",
   "metadata": {},
   "source": [
    "의류이외의 제품을 파는 쇼핑몰은 타겟 연령층이 없기 떄문에 일치여부가 0이 나옵니다. 일치여부가 낮은 쇼핑몰의 경우는 더 긴 기간의 로그를 모니터링 한 다음, 태그 수정을 제안하여 타겟 적합도를 높일 수 있습니다."
   ]
  },
  {
   "cell_type": "markdown",
   "metadata": {},
   "source": [
    "----"
   ]
  }
 ],
 "metadata": {
  "kernelspec": {
   "display_name": "Python 3 (ipykernel)",
   "language": "python",
   "name": "python3"
  },
  "language_info": {
   "codemirror_mode": {
    "name": "ipython",
    "version": 3
   },
   "file_extension": ".py",
   "mimetype": "text/x-python",
   "name": "python",
   "nbconvert_exporter": "python",
   "pygments_lexer": "ipython3",
   "version": "3.9.7"
  }
 },
 "nbformat": 4,
 "nbformat_minor": 2
}
