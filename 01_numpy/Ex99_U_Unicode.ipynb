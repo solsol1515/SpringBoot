{
 "cells": [
  {
   "cell_type": "markdown",
   "metadata": {},
   "source": [
    "\n",
    "[ 참고 ] \n",
    "\n",
    "    - 넘파이의 배열 안에는 동일한 타입의 데이터만 저장\n",
    "    - 이 점 때문에 넘파이가 계산을 쉽고 빠르게 처리한다\n",
    "    - 동일한 자료형으로만 데이터를 저장하면 필요한 저장공간이 일정하기에,\n",
    "      원하는 위치에 바로 접근하여 데이타를 읽을 수 있기 때문이다.\n",
    "\n"
   ]
  },
  {
   "cell_type": "code",
   "execution_count": 13,
   "metadata": {},
   "outputs": [
    {
     "name": "stdout",
     "output_type": "stream",
     "text": [
      "자료형 type: int32\n",
      "자료형 type: float64\n"
     ]
    }
   ],
   "source": [
    "import numpy as np\n",
    "\n",
    "ar = np.array([1, 2, 3])                 \n",
    "print('자료형 type:', ar.dtype)  # int32\n",
    "ar = np.array([1, 2.9, 3])                 \n",
    "print('자료형 type:', ar.dtype)  # float64"
   ]
  },
  {
   "cell_type": "markdown",
   "metadata": {},
   "source": [
    "\n"
   ]
  },
  {
   "cell_type": "markdown",
   "metadata": {},
   "source": [
    "\n",
    "### 정수형 + 문자형\n",
    "\n",
    "\n",
    "+ int -> str 변환 : 11bit??"
   ]
  },
  {
   "cell_type": "code",
   "execution_count": 15,
   "metadata": {},
   "outputs": [
    {
     "name": "stdout",
     "output_type": "stream",
     "text": [
      "['10' '2' '3' '4']\n",
      "자료형 type: <U11\n"
     ]
    }
   ],
   "source": [
    "\n",
    "ar = np.array([1, 2, 3,'4'])   \n",
    "print(ar)\n",
    "\n",
    "print('자료형 type:', ar.dtype)\n",
    "# [결과] 자료형 type: <U11"
   ]
  },
  {
   "cell_type": "code",
   "execution_count": 16,
   "metadata": {},
   "outputs": [
    {
     "name": "stdout",
     "output_type": "stream",
     "text": [
      "['11111111111' '2' '3' '4']\n",
      "자료형 type: <U21\n"
     ]
    }
   ],
   "source": [
    "ar = np.array([11111111111, 2, 3,'4'])   \n",
    "print(ar)\n",
    "\n",
    "print('자료형 type:', ar.dtype)\n",
    "# [결과] 자료형 type: <U21"
   ]
  },
  {
   "cell_type": "markdown",
   "metadata": {},
   "source": [
    "### 정수형 + 실수형 + 문자형\n",
    "\n",
    "+ float -> str 변환 : 32bit??"
   ]
  },
  {
   "cell_type": "code",
   "execution_count": 10,
   "metadata": {},
   "outputs": [
    {
     "name": "stdout",
     "output_type": "stream",
     "text": [
      "['1' '2.9' '3' '40000']\n",
      "자료형 type: <U32\n"
     ]
    }
   ],
   "source": [
    "\n",
    "ar = np.array([1, 2.9, 3,'4'])   \n",
    "print(ar)                          \n",
    "                \n",
    "print('자료형 type:', ar.dtype)\n",
    "# [결과] 자료형 type: <U32"
   ]
  },
  {
   "cell_type": "code",
   "execution_count": 24,
   "metadata": {},
   "outputs": [
    {
     "name": "stdout",
     "output_type": "stream",
     "text": [
      "['1' '2.2222222222222223e+43' '3' '4']\n",
      "자료형 type: <U32\n"
     ]
    }
   ],
   "source": [
    "ar = np.array([1, 22222222222222222222222222222222222222222222.99999999999999999999999999999999, 3,'4'])   \n",
    "print(ar)                          \n",
    "                \n",
    "print('자료형 type:', ar.dtype)\n",
    "\n",
    "\n",
    "# ['1' '2.2222222222222223e+43' '3' '4']   -----> float 형은 지수형으로 표현되어 최대 32bit 인가?\n",
    "# [결과] 자료형 type: <U32"
   ]
  },
  {
   "cell_type": "markdown",
   "metadata": {},
   "source": [
    "# U숫자 : Unicode 문자열\n",
    "\n",
    "숫자가 최대자리수인가??"
   ]
  },
  {
   "cell_type": "code",
   "execution_count": 4,
   "metadata": {},
   "outputs": [
    {
     "name": "stdout",
     "output_type": "stream",
     "text": [
      "['1' '2' '3' '4']\n",
      "자료형 type: <U1\n"
     ]
    }
   ],
   "source": [
    "# 문자형\n",
    "ar = np.array(['1', '2', '3','4'])   \n",
    "print(ar)                          \n",
    "                \n",
    "print('자료형 type:', ar.dtype)"
   ]
  },
  {
   "cell_type": "code",
   "execution_count": 5,
   "metadata": {},
   "outputs": [
    {
     "name": "stdout",
     "output_type": "stream",
     "text": [
      "['가' '나' '다' '라']\n",
      "자료형 type: <U1\n"
     ]
    }
   ],
   "source": [
    "# 문자형\n",
    "ar = np.array(['가', '나', '다','라'])   \n",
    "print(ar)                          \n",
    "                \n",
    "print('자료형 type:', ar.dtype)"
   ]
  },
  {
   "cell_type": "code",
   "execution_count": 6,
   "metadata": {},
   "outputs": [
    {
     "name": "stdout",
     "output_type": "stream",
     "text": [
      "['hello' 'hi' 'hola' 'bye']\n",
      "자료형 type: <U5\n"
     ]
    }
   ],
   "source": [
    "# 문자형\n",
    "ar = np.array(['hello', 'hi', 'hola','bye'])   \n",
    "print(ar)                          \n",
    "                \n",
    "print('자료형 type:', ar.dtype)"
   ]
  },
  {
   "cell_type": "code",
   "execution_count": 7,
   "metadata": {},
   "outputs": [
    {
     "name": "stdout",
     "output_type": "stream",
     "text": [
      "['iloveyou' 'hi' 'hola' 'bye']\n",
      "자료형 type: <U8\n"
     ]
    }
   ],
   "source": [
    "# 문자형\n",
    "ar = np.array(['iloveyou', 'hi', 'hola','bye'])   \n",
    "print(ar)                          \n",
    "                \n",
    "print('자료형 type:', ar.dtype)"
   ]
  },
  {
   "cell_type": "code",
   "execution_count": 8,
   "metadata": {},
   "outputs": [
    {
     "name": "stdout",
     "output_type": "stream",
     "text": [
      "['abcdefghijklmnopqrstuvwxyz' 'hi' 'hola' 'bye']\n",
      "자료형 type: <U26\n"
     ]
    }
   ],
   "source": [
    "# 문자형\n",
    "ar = np.array(['abcdefghijklmnopqrstuvwxyz', 'hi', 'hola','bye'])   \n",
    "print(ar)                          \n",
    "                \n",
    "print('자료형 type:', ar.dtype)"
   ]
  },
  {
   "cell_type": "markdown",
   "metadata": {},
   "source": [
    "[ 참고 ]\n",
    "\n",
    "> little-endian\n",
    "< big-endian\n",
    "\n",
    "리틀 vs 빅 엔디언\n",
    "컴퓨터는 데이터를 메모리나 디스크에 저장할 때 바이트 단위로 나누어 저장한다. 저장하는 데이터는 대게 4바이트나 8바이트로 구성되므로,연속되는 바이트를 어떤 순서로 저장해하는데 이를 바이트 저장 순서(byte order)라고 한다. 여기에는 두가지가 있다.\n",
    "\n",
    "+ 빅 엔디언(big endian) : 높은 바이트부터 낮은 바이트로 저장. 예를 들어 0x12345678인 경우 0x12, 0x34, 0x56, 0x78 순서로 저장\n",
    "+ 리틀 엔디안(little endian) : 낮은 바이트부터 낮은 바이트로 저장. 예를 들어 0x12345678인 경우 0x78, 0x56, , 0x34, 0x12 순서로 저장\n",
    "\n",
    "인텔 계열 CPU(인텔이나 AMD)는 리틀 엔디안을 사용한다. 다만 네트워크를 통해 데이터를 전송할 때는 빅엔디안을 사용한다."
   ]
  }
 ],
 "metadata": {
  "kernelspec": {
   "display_name": "Python 3",
   "language": "python",
   "name": "python3"
  },
  "language_info": {
   "codemirror_mode": {
    "name": "ipython",
    "version": 3
   },
   "file_extension": ".py",
   "mimetype": "text/x-python",
   "name": "python",
   "nbconvert_exporter": "python",
   "pygments_lexer": "ipython3",
   "version": "3.8.8"
  }
 },
 "nbformat": 4,
 "nbformat_minor": 4
}
