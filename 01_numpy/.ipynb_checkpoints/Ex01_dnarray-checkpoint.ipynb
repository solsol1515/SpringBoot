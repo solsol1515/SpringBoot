{
 "cells": [
  {
   "cell_type": "markdown",
   "metadata": {},
   "source": [
    "# numpy\n",
    "\n",
    "\n",
    "- 행렬 / 선형대수 / 통계 패키지\n",
    "\n",
    "- 머신러닝의 이론적 백그라운드는 선형대수와 통계로 이루어져 있다\n",
    "\n",
    "- 사이킷런 같은 머신러닝 패키지가 넘파이 기반으로 되어 있다\n",
    "\n",
    "\n",
    "    * 머신러닝 알고리즘이나 사이파이와 같은 과학, 통계 지원용 패키지를 직접 만드는 개발이 아니라면\n",
    "    넘파이를 상세하기 알 필요는 없다지만, 넘파이를 이해하는 것이 파이썬 기반의 데이타분석과 머신러닝에 중요하다\n",
    "    \n",
    "    * 넘파이가 데이타 핸들링에 효율적으로 쉽고 편하고 할 수 없다.\n",
    "      그러나 데이타 핸들링에 주로 사용하는 판다스도 많은 부분이 넘파이를 기반으로 만들어져 있다.\n",
    "    \n",
    "     -> 이번 수업을 가볍게 구경하듯이 하다가 추후에 이 부분이 나오면 다시 집중해서 보는 방식을 해도 된다\n",
    "\n",
    "    \n",
    "    * ndarray \n",
    "        - 넘파이 기반 데이타 타입\n",
    "        - np.array()       "
   ]
  },
  {
   "cell_type": "code",
   "execution_count": 1,
   "metadata": {},
   "outputs": [
    {
     "name": "stdout",
     "output_type": "stream",
     "text": [
      "[[1 2 3]\n",
      " [9 8 7]]\n",
      "<class 'numpy.ndarray'>\n",
      "(2, 3)\n"
     ]
    }
   ],
   "source": [
    "import numpy as np\n",
    "\n",
    "list_1 = [1, 2, 3]  # 파이썬의 리스트\n",
    "list_2 = [9, 8, 7]\n",
    "arr = np.array([list_1, list_2]) # 넘파이의 ndarray\n",
    "print(arr)\n",
    "print(type(arr))  # 자료형 확인\n",
    "print(arr.shape)  # 형태 확인\n",
    "\n",
    "# 넘파이 기반의 데이타 타입이 ndarray 이다"
   ]
  },
  {
   "cell_type": "code",
   "execution_count": 2,
   "metadata": {},
   "outputs": [
    {
     "data": {
      "text/plain": [
       "array([[  1,   2,   3],\n",
       "       [  9, 100,   7]])"
      ]
     },
     "execution_count": 2,
     "metadata": {},
     "output_type": "execute_result"
    }
   ],
   "source": [
    "## 두번째 행 두번째 열의 요소를 100으로 지정\n",
    "arr[1][1]=100\n",
    "arr"
   ]
  },
  {
   "cell_type": "code",
   "execution_count": 3,
   "metadata": {},
   "outputs": [],
   "source": [
    "# 도움말보기 ( 쉘창 실행 : shift + enter )\n",
    "# arr에 커서는 놓고 shift + tab\n",
    "?arr"
   ]
  },
  {
   "cell_type": "code",
   "execution_count": 4,
   "metadata": {},
   "outputs": [
    {
     "name": "stdout",
     "output_type": "stream",
     "text": [
      "<class 'numpy.ndarray'>\n",
      "(3,)\n",
      "<class 'numpy.ndarray'>\n",
      "(1, 3)\n",
      "1 차원\n",
      "2 차원\n"
     ]
    }
   ],
   "source": [
    "arr1 = np.array([1,2,3])\n",
    "arr2 = np.array([[1,2,3]])\n",
    "\n",
    "## 자료형과 형태를 확인\n",
    "print(type(arr1))\n",
    "print(arr1.shape)\n",
    "\n",
    "print(type(arr2))\n",
    "print(arr2.shape)\n",
    "\n",
    "# [결과]\n",
    "# (3,) ->  1차원 튜플로 3개의 요소를 가진  (** 헷갈린다)\n",
    "# (1, 3) -> 1행 3열의 2차원 형태\n",
    "\n",
    "# 차원수 확인\n",
    "print(arr1.ndim,'차원')\n",
    "print(arr2.ndim,'차원')"
   ]
  },
  {
   "cell_type": "markdown",
   "metadata": {},
   "source": [
    "### 자료형\n",
    "\n",
    "[ 참고 ] \n",
    "\n",
    "    - 넘파이의 배열 안에는 동일한 타입의 데이터만 저장\n",
    "    - 이 점 때문에 넘파이가 계산을 쉽고 빠르게 처리한다\n",
    "    - 동일한 자료형으로만 데이터를 저장하면 필요한 저장공간이 일정하기에,\n",
    "      원하는 위치에 바로 접근하여 데이타를 읽을 수 있기 때문이다."
   ]
  },
  {
   "cell_type": "code",
   "execution_count": 5,
   "metadata": {},
   "outputs": [
    {
     "name": "stdout",
     "output_type": "stream",
     "text": [
      "<class 'numpy.ndarray'>\n",
      "int32\n"
     ]
    }
   ],
   "source": [
    "# 자료형보기\n",
    "print(type(arr))\n",
    "\n",
    "# nparray의 요소의 자료형 보기\n",
    "print(arr.dtype)"
   ]
  },
  {
   "cell_type": "code",
   "execution_count": 6,
   "metadata": {},
   "outputs": [
    {
     "data": {
      "text/plain": [
       "array([[  1.,   2.,   3.],\n",
       "       [  9., 100.,   7.]])"
      ]
     },
     "execution_count": 6,
     "metadata": {},
     "output_type": "execute_result"
    }
   ],
   "source": [
    "# 타입 변경\n",
    "# 머신러닝에서 데이타를 정규분포나 0~1 사이 값을 맞추기 위해 많이 사용 \n",
    "arr_2 = arr.astype(np.float64)\n",
    "arr_2"
   ]
  },
  {
   "cell_type": "code",
   "execution_count": 7,
   "metadata": {},
   "outputs": [
    {
     "data": {
      "text/plain": [
       "array([2, 3, 4])"
      ]
     },
     "execution_count": 7,
     "metadata": {},
     "output_type": "execute_result"
    }
   ],
   "source": [
    "# np.array() 이용 : float 배열을  int32형으로 변경\n",
    "in_sample = [2.1, 3.2, 4.3]\n",
    "arr_sample = np.array(in_sample, dtype='int32')\n",
    "arr_sample"
   ]
  },
  {
   "cell_type": "code",
   "execution_count": 8,
   "metadata": {},
   "outputs": [
    {
     "name": "stdout",
     "output_type": "stream",
     "text": [
      "[1.  2.  3.6]\n",
      "float64\n",
      "['1' '2.9' 'PYTHON']\n",
      "<U32\n"
     ]
    }
   ],
   "source": [
    "# 다른 자료형의 요소들을 가진 리스트를 ndarray로 배열로 변환시 자료형 확인\n",
    "\n",
    "list1 = [1, 2, 3.6 ]   # 정수, 정수, 실수\n",
    "arr1 = np.array(list1)\n",
    "print(arr1)\n",
    "print(arr1.dtype)      # nparray의 요소의 자료형 보기\n",
    "\n",
    "list2 = [1, 2.9, 'PYTHON' ]   # 정수, 정수, 문자열\n",
    "arr2 = np.array(list2)\n",
    "print(arr2)\n",
    "print(arr2.dtype)      # [결과] <U32   : Unicode 문자열 "
   ]
  },
  {
   "cell_type": "markdown",
   "metadata": {},
   "source": [
    "### nparray를 편리하게 생성\n",
    "\n",
    "* arange() : 범위를 이용한 배열 만들기\n",
    "            - range() 비교\n",
    "            - np.array(range(5))\n",
    "* zeros() : 0으로 채우는 배열 만들기\n",
    "* ones() : 1로 채우는 배열 만들기"
   ]
  },
  {
   "cell_type": "code",
   "execution_count": 9,
   "metadata": {},
   "outputs": [
    {
     "data": {
      "text/plain": [
       "array([ 1,  4,  7, 10])"
      ]
     },
     "execution_count": 9,
     "metadata": {},
     "output_type": "execute_result"
    }
   ],
   "source": [
    "import numpy as np\n",
    "a = np.arange(10)   # 범위를 이용한 배열 만들기\n",
    "a\n",
    "\n",
    "b= np.arange(1,11)\n",
    "b\n",
    "\n",
    "c = np.arange(1, 11, 3)\n",
    "c"
   ]
  },
  {
   "cell_type": "code",
   "execution_count": 10,
   "metadata": {},
   "outputs": [
    {
     "data": {
      "text/plain": [
       "array([[0, 0, 0, 0, 0],\n",
       "       [0, 0, 0, 0, 0],\n",
       "       [0, 0, 0, 0, 0],\n",
       "       [0, 0, 0, 0, 0],\n",
       "       [0, 0, 0, 0, 0]])"
      ]
     },
     "execution_count": 10,
     "metadata": {},
     "output_type": "execute_result"
    }
   ],
   "source": [
    "a2 = np.zeros((5,5))  \n",
    "a2                  # 기본 데이타타입이 float\n",
    "\n",
    "a3 = np.zeros((5,5), dtype='int32')\n",
    "a3"
   ]
  },
  {
   "cell_type": "code",
   "execution_count": 11,
   "metadata": {},
   "outputs": [
    {
     "data": {
      "text/plain": [
       "array([[1, 1, 1, 1],\n",
       "       [1, 1, 1, 1],\n",
       "       [1, 1, 1, 1]])"
      ]
     },
     "execution_count": 11,
     "metadata": {},
     "output_type": "execute_result"
    }
   ],
   "source": [
    "## 1로 채워진 3행 4열의 정수 배열 생성\n",
    "a4 = np.ones((3,4), dtype='int32')\n",
    "a4"
   ]
  },
  {
   "cell_type": "markdown",
   "metadata": {},
   "source": [
    "### ndarray의 차원과 크기를 변경 : reshape()\n",
    "\n",
    "+ flatten() : 평탄화 함수\n"
   ]
  },
  {
   "cell_type": "code",
   "execution_count": 14,
   "metadata": {},
   "outputs": [
    {
     "name": "stdout",
     "output_type": "stream",
     "text": [
      "[ 0  1  2  3  4  5  6  7  8  9 10 11 12 13 14 15 16 17 18 19]\n",
      "[[ 0  1  2  3]\n",
      " [ 4  5  6  7]\n",
      " [ 8  9 10 11]\n",
      " [12 13 14 15]\n",
      " [16 17 18 19]]\n",
      "[[ 0  1  2  3  4]\n",
      " [ 5  6  7  8  9]\n",
      " [10 11 12 13 14]\n",
      " [15 16 17 18 19]]\n",
      "[[ 0  1  2  3]\n",
      " [ 4  5  6  7]\n",
      " [ 8  9 10 11]\n",
      " [12 13 14 15]\n",
      " [16 17 18 19]]\n"
     ]
    }
   ],
   "source": [
    "# -1 적용\n",
    "\n",
    "arr = np.arange(20)\n",
    "print(arr)\n",
    "print(arr2.shape)\n",
    "\n",
    "# 차원과 크기 변경\n",
    "arr1 = arr.reshape(4,5)\n",
    "print(arr1)\n",
    "print(arr1.shape)\n",
    "\n",
    "arr2 = arr.reshape(5, -1)\n",
    "print(arr2)\n",
    "\n",
    "arr3 = arr.reshape(-1, 5)\n",
    "print(arr3)\n",
    "\n",
    "arr4 = arr.reshape(-1, 4)\n",
    "print(arr4)\n",
    "\n",
    "# arr5 = arr.reshape(-1, 3) # 에러 발생 : 행과 열수 안 맞음\n",
    "# print(arr5)"
   ]
  },
  {
   "cell_type": "markdown",
   "metadata": {},
   "source": [
    "### 인덱싱: 특정 데이타 추출"
   ]
  },
  {
   "cell_type": "code",
   "execution_count": 18,
   "metadata": {},
   "outputs": [
    {
     "name": "stdout",
     "output_type": "stream",
     "text": [
      "[[1 2 3]\n",
      " [4 5 6]\n",
      " [7 8 9]]\n",
      "[[1 2]\n",
      " [4 5]]\n",
      "[[4 5 6]\n",
      " [7 8 9]]\n",
      "[[2 3]\n",
      " [5 6]]\n",
      "[1 4]\n",
      "[[1 2 3]\n",
      " [4 5 6]\n",
      " [7 8 9]]\n",
      "[[1 2 3]\n",
      " [4 5 6]\n",
      " [7 8 9]]\n"
     ]
    }
   ],
   "source": [
    "# 2차원 배열에서  슬라이싱은 그림을 보여주면 하자\n",
    "\"\"\"\n",
    "    1 2 3\n",
    "    4 5 6\n",
    "    7 8 9\n",
    "\"\"\"\n",
    "\n",
    "arr = np.arange(1, 10)\n",
    "ndarr = arr.reshape(3,3)\n",
    "print(ndarr)\n",
    "    \n",
    "## 행렬에서 1, 2, 4, 5 추출 ( 이것만 해주자)\n",
    "print(ndarr[:2, :2])\n",
    "# ndarr[0:2][0:2] 은 이미 ndarr[0:2] 행을 추출하고 다시 [0:2]행을 또 추출하는 경우이다. 즉 두번째가 열을 추출하지 않느다\n",
    "\n",
    "## 행렬에서 4, 5, 6, 7, 8, 9 추출\n",
    "print(ndarr[1:, :])\n",
    "\n",
    "## 행렬에서 2, 3, 5, 6 추출\n",
    "print(ndarr[:2, 1:])\n",
    "\n",
    "## 행렬에서 1, 4 추출\n",
    "print(ndarr[:2, 0])\n",
    "\n",
    "## 행렬에서 전체 요소 추출\n",
    "print(ndarr[:,:])\n",
    "print(ndarr[::])\n",
    "\n"
   ]
  },
  {
   "cell_type": "code",
   "execution_count": 19,
   "metadata": {},
   "outputs": [],
   "source": [
    "# 2차원 ndarray에서 뒤의 오는 인덱스가 없으면 1차원으로 반환\n",
    "# 3차원 ndarray에서 뒤의 오는 인덱스가 없으면 2차원으로 반환\n",
    "\n",
    "# print(ndarr[1][1])\n",
    "# print(ndarr[1])       # 1차원 ndarray 반환"
   ]
  },
  {
   "cell_type": "code",
   "execution_count": 20,
   "metadata": {},
   "outputs": [
    {
     "name": "stdout",
     "output_type": "stream",
     "text": [
      "[[1 2 3]\n",
      " [4 5 6]\n",
      " [7 8 9]]\n",
      "[[1 2]\n",
      " [4 5]]\n",
      "[[1 2]\n",
      " [4 5]]\n",
      "[1 5]\n",
      "[[4 5 6]\n",
      " [7 8 9]]\n",
      "[[2 3]\n",
      " [5 6]]\n",
      "[1 4]\n",
      "[3 6]\n"
     ]
    }
   ],
   "source": [
    "# 슬라이싱[:]과 인덱스선택을 결합\n",
    "\n",
    "# 2차원 배열에서  슬라이싱은 그림을 보여주면 하자\n",
    "\"\"\"\n",
    "    1 2 3\n",
    "    4 5 6\n",
    "    7 8 9\n",
    "\"\"\"\n",
    "import numpy as np\n",
    "arr = np.arange(1, 10)\n",
    "ndarr = arr.reshape(3,3)\n",
    "print(ndarr)\n",
    "\n",
    "## 행렬에서 1, 2, 4, 5 추출 ( 이것만 해주자)\n",
    "print(ndarr[[0,1], :2])\n",
    "print(ndarr[:2, :2])\n",
    "print(ndarr[[0,1],[0,1]]) # 결과 다름 0 , 5\n",
    "\n",
    "## 행렬에서 4, 5, 6, 7, 8, 9 추출\n",
    "print(ndarr[[1,2]])\n",
    "\n",
    "## 행렬에서 2, 3, 5, 6 추출\n",
    "print(ndarr[[0,1],1:])\n",
    "\n",
    "## 행렬에서 1, 4 추출\n",
    "print(ndarr[[0,1], 0])\n",
    "\n",
    "## 행렬에서 3, 6 추출\n",
    "print(ndarr[[0,1], 2])\n",
    "\n",
    "# 지금은 너무 간단하다고 여기지만 추후에 데이타에서 많이 헷갈려서 여기서 시간 소요를 많이 한다"
   ]
  },
  {
   "cell_type": "code",
   "execution_count": 21,
   "metadata": {},
   "outputs": [
    {
     "name": "stdout",
     "output_type": "stream",
     "text": [
      "[[1 2 3]\n",
      " [4 5 6]\n",
      " [7 8 9]]\n",
      "[[False False False]\n",
      " [False False  True]\n",
      " [ True  True  True]]\n",
      "[6 7 8 9]\n",
      "[[False False False]\n",
      " [False False False]\n",
      " [False  True False]]\n",
      "[[ 1  2  3]\n",
      " [ 4  5  6]\n",
      " [ 7 88  9]]\n"
     ]
    }
   ],
   "source": [
    "#------------------------------------------ (3) 블린인덱싱\n",
    "# 조건 필터링과 검색을 같이 하기에 자주 사용\n",
    "\n",
    "arr = np.arange(1, 10)\n",
    "ndarr = arr.reshape(3,3)\n",
    "print(ndarr)\n",
    "\n",
    "# 5보다 큰 요소들 추출\n",
    "print(ndarr>5)\n",
    "print(ndarr[ndarr>5])\n",
    "\n",
    "# 8값 요소를 찾아서 88로 변경\n",
    "print(ndarr== 8)\n",
    "ndarr[ndarr==8]=88\n",
    "print(ndarr)"
   ]
  },
  {
   "cell_type": "code",
   "execution_count": null,
   "metadata": {},
   "outputs": [],
   "source": []
  },
  {
   "cell_type": "code",
   "execution_count": null,
   "metadata": {},
   "outputs": [],
   "source": []
  },
  {
   "cell_type": "code",
   "execution_count": null,
   "metadata": {},
   "outputs": [],
   "source": []
  }
 ],
 "metadata": {
  "kernelspec": {
   "display_name": "Python 3 (ipykernel)",
   "language": "python",
   "name": "python3"
  },
  "language_info": {
   "codemirror_mode": {
    "name": "ipython",
    "version": 3
   },
   "file_extension": ".py",
   "mimetype": "text/x-python",
   "name": "python",
   "nbconvert_exporter": "python",
   "pygments_lexer": "ipython3",
   "version": "3.9.13"
  }
 },
 "nbformat": 4,
 "nbformat_minor": 2
}
