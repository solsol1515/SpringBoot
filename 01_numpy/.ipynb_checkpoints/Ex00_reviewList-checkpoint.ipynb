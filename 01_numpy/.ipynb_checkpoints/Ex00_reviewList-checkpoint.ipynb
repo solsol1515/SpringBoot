{
 "cells": [
  {
   "cell_type": "markdown",
   "metadata": {},
   "source": [
    "## 파이썬의 리스트와 튜플\n",
    "\n",
    "[참고] 주요 기본자료형\n",
    "\n",
    "     1- 파이썬의 리스트 / 튜플\n",
    "     \n",
    "     2- numpy의 dnarray\n",
    "     \n",
    "     3- pandas의 DataFrame / Series\n",
    "     "
   ]
  },
  {
   "cell_type": "markdown",
   "metadata": {},
   "source": [
    "##  리스트 복습\n",
    "\n",
    "- append(추가요소) : 리스트 맨 마지막에 하나 추가\n",
    "\n",
    "- pop() : 마지막요소를 지움\n",
    "\n",
    "- extend([추가요소들]) : 리스트 마지막에 여러 개 추가\n",
    "\n",
    "- remove('요소값') : 해당 요소값 지움\n",
    "\n",
    "---\n",
    "\n",
    "- insert(idx, '데이타') : 원하는 위치에 자료 삽입\n",
    "\n",
    "---\n",
    "[슬라이싱]\n",
    "\n",
    "- 리스트명(n:m) : n부터 m-1까지 데이타 추출\n"
   ]
  },
  {
   "cell_type": "code",
   "execution_count": 1,
   "metadata": {},
   "outputs": [
    {
     "data": {
      "text/plain": [
       "['어밴져스', '기생충', '가디언스갤럭시', '어떤영화', '유명한 영화']"
      ]
     },
     "execution_count": 1,
     "metadata": {},
     "output_type": "execute_result"
    }
   ],
   "source": [
    "movies = ['어밴져스','기생충','가디언스갤럭시','어떤영화','유명한 영화']\n",
    "movies"
   ]
  },
  {
   "cell_type": "markdown",
   "metadata": {},
   "source": [
    "(1) '어젠져스2' 추가"
   ]
  },
  {
   "cell_type": "code",
   "execution_count": 2,
   "metadata": {},
   "outputs": [
    {
     "data": {
      "text/plain": [
       "['어밴져스', '기생충', '가디언스갤럭시', '어떤영화', '유명한 영화', '어벤져스2']"
      ]
     },
     "execution_count": 2,
     "metadata": {},
     "output_type": "execute_result"
    }
   ],
   "source": [
    "movies.append('어벤져스2')\n",
    "movies"
   ]
  },
  {
   "cell_type": "markdown",
   "metadata": {},
   "source": [
    "(2) 마지막요소 제거"
   ]
  },
  {
   "cell_type": "code",
   "execution_count": 3,
   "metadata": {},
   "outputs": [
    {
     "data": {
      "text/plain": [
       "['어밴져스', '기생충', '가디언스갤럭시', '어떤영화', '유명한 영화']"
      ]
     },
     "execution_count": 3,
     "metadata": {},
     "output_type": "execute_result"
    }
   ],
   "source": [
    "movies.pop()\n",
    "movies"
   ]
  },
  {
   "cell_type": "markdown",
   "metadata": {},
   "source": [
    "(3) '어벤져스2','기생충2' 요소를 한꺼번에 추가"
   ]
  },
  {
   "cell_type": "code",
   "execution_count": 4,
   "metadata": {},
   "outputs": [
    {
     "data": {
      "text/plain": [
       "['어밴져스', '기생충', '가디언스갤럭시', '어떤영화', '유명한 영화', '어벤져스2', '기생충2']"
      ]
     },
     "execution_count": 4,
     "metadata": {},
     "output_type": "execute_result"
    }
   ],
   "source": [
    "movies.extend(['어벤져스2','기생충2'])\n",
    "movies"
   ]
  },
  {
   "cell_type": "markdown",
   "metadata": {},
   "source": [
    "(4) '어벤져스2' 요소 제거"
   ]
  },
  {
   "cell_type": "code",
   "execution_count": 5,
   "metadata": {},
   "outputs": [
    {
     "data": {
      "text/plain": [
       "['어밴져스', '기생충', '가디언스갤럭시', '어떤영화', '유명한 영화', '기생충2']"
      ]
     },
     "execution_count": 5,
     "metadata": {},
     "output_type": "execute_result"
    }
   ],
   "source": [
    "movies.remove('어벤져스2')\n",
    "movies"
   ]
  },
  {
   "cell_type": "markdown",
   "metadata": {},
   "source": [
    "(5) 네번째 위치에 '오래된 영화' 추가"
   ]
  },
  {
   "cell_type": "code",
   "execution_count": 6,
   "metadata": {},
   "outputs": [
    {
     "data": {
      "text/plain": [
       "['어밴져스', '기생충', '가디언스갤럭시', '오래된 영화', '어떤영화', '유명한 영화', '기생충2']"
      ]
     },
     "execution_count": 6,
     "metadata": {},
     "output_type": "execute_result"
    }
   ],
   "source": [
    "movies.insert(3,'오래된 영화')\n",
    "movies"
   ]
  },
  {
   "cell_type": "markdown",
   "metadata": {},
   "source": [
    "(6) 영화목록에서 3번째에서 5번째까지 추출"
   ]
  },
  {
   "cell_type": "code",
   "execution_count": 7,
   "metadata": {},
   "outputs": [
    {
     "data": {
      "text/plain": [
       "['오래된 영화', '어떤영화', '유명한 영화']"
      ]
     },
     "execution_count": 7,
     "metadata": {},
     "output_type": "execute_result"
    }
   ],
   "source": [
    "movies[3:6]"
   ]
  },
  {
   "cell_type": "code",
   "execution_count": 8,
   "metadata": {},
   "outputs": [
    {
     "data": {
      "text/plain": [
       "['어밴져스', '기생충', '가디언스갤럭시', '오래된 영화', '어떤영화', '유명한 영화', '기생충2']"
      ]
     },
     "execution_count": 8,
     "metadata": {},
     "output_type": "execute_result"
    }
   ],
   "source": [
    "# 최종리스트 확인\n",
    "movies"
   ]
  },
  {
   "cell_type": "code",
   "execution_count": null,
   "metadata": {},
   "outputs": [],
   "source": []
  },
  {
   "cell_type": "markdown",
   "metadata": {},
   "source": [
    "## 파이썬의 리스트와 넘파이 비교"
   ]
  },
  {
   "cell_type": "code",
   "execution_count": 9,
   "metadata": {},
   "outputs": [
    {
     "name": "stdout",
     "output_type": "stream",
     "text": [
      "[1, 2, 3, 1, 2, 3]\n",
      "[]\n",
      "[]\n"
     ]
    }
   ],
   "source": [
    "# [기초이해] 파이썬에서 리스트에 정수를 곱하기\n",
    "list = [1,2,3]\n",
    "print(list*2)\n",
    "print(list*0)\n",
    "print(list*-1)\n",
    "\n",
    "# 파이썬에서 리스트에 실수를 곱하기 -> 에러?\n",
    "# print(list*0.01)"
   ]
  },
  {
   "cell_type": "code",
   "execution_count": 10,
   "metadata": {},
   "outputs": [
    {
     "name": "stdout",
     "output_type": "stream",
     "text": [
      "[2 4 6]\n",
      "[0 0 0]\n",
      "[-1 -2 -3]\n",
      "[0.01 0.02 0.03]\n"
     ]
    }
   ],
   "source": [
    "# [기초이해] 넘파이 array 에 정수, 실수를 곱하기\n",
    "import numpy as np\n",
    "nparr = np.array([1,2,3])\n",
    "print(nparr*2)\n",
    "print(nparr*0)\n",
    "print(nparr*-1)\n",
    "print(nparr*0.01)"
   ]
  }
 ],
 "metadata": {
  "kernelspec": {
   "display_name": "Python 3 (ipykernel)",
   "language": "python",
   "name": "python3"
  },
  "language_info": {
   "codemirror_mode": {
    "name": "ipython",
    "version": 3
   },
   "file_extension": ".py",
   "mimetype": "text/x-python",
   "name": "python",
   "nbconvert_exporter": "python",
   "pygments_lexer": "ipython3",
   "version": "3.9.13"
  }
 },
 "nbformat": 4,
 "nbformat_minor": 2
}
