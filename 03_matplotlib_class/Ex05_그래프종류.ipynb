{
 "cells": [
  {
   "cell_type": "markdown",
   "metadata": {},
   "source": [
    "##  ppt  그래프 종류 설명을 언제 할까나"
   ]
  },
  {
   "cell_type": "code",
   "execution_count": 1,
   "metadata": {},
   "outputs": [
    {
     "data": {
      "text/html": [
       "<div>\n",
       "<style scoped>\n",
       "    .dataframe tbody tr th:only-of-type {\n",
       "        vertical-align: middle;\n",
       "    }\n",
       "\n",
       "    .dataframe tbody tr th {\n",
       "        vertical-align: top;\n",
       "    }\n",
       "\n",
       "    .dataframe thead th {\n",
       "        text-align: right;\n",
       "    }\n",
       "</style>\n",
       "<table border=\"1\" class=\"dataframe\">\n",
       "  <thead>\n",
       "    <tr style=\"text-align: right;\">\n",
       "      <th></th>\n",
       "      <th>total_bill</th>\n",
       "      <th>tip</th>\n",
       "      <th>sex</th>\n",
       "      <th>smoker</th>\n",
       "      <th>day</th>\n",
       "      <th>time</th>\n",
       "      <th>size</th>\n",
       "    </tr>\n",
       "  </thead>\n",
       "  <tbody>\n",
       "    <tr>\n",
       "      <th>0</th>\n",
       "      <td>16.99</td>\n",
       "      <td>1.01</td>\n",
       "      <td>Female</td>\n",
       "      <td>No</td>\n",
       "      <td>Sun</td>\n",
       "      <td>Dinner</td>\n",
       "      <td>2</td>\n",
       "    </tr>\n",
       "    <tr>\n",
       "      <th>1</th>\n",
       "      <td>10.34</td>\n",
       "      <td>1.66</td>\n",
       "      <td>Male</td>\n",
       "      <td>No</td>\n",
       "      <td>Sun</td>\n",
       "      <td>Dinner</td>\n",
       "      <td>3</td>\n",
       "    </tr>\n",
       "    <tr>\n",
       "      <th>2</th>\n",
       "      <td>21.01</td>\n",
       "      <td>3.50</td>\n",
       "      <td>Male</td>\n",
       "      <td>No</td>\n",
       "      <td>Sun</td>\n",
       "      <td>Dinner</td>\n",
       "      <td>3</td>\n",
       "    </tr>\n",
       "    <tr>\n",
       "      <th>3</th>\n",
       "      <td>23.68</td>\n",
       "      <td>3.31</td>\n",
       "      <td>Male</td>\n",
       "      <td>No</td>\n",
       "      <td>Sun</td>\n",
       "      <td>Dinner</td>\n",
       "      <td>2</td>\n",
       "    </tr>\n",
       "    <tr>\n",
       "      <th>4</th>\n",
       "      <td>24.59</td>\n",
       "      <td>3.61</td>\n",
       "      <td>Female</td>\n",
       "      <td>No</td>\n",
       "      <td>Sun</td>\n",
       "      <td>Dinner</td>\n",
       "      <td>4</td>\n",
       "    </tr>\n",
       "  </tbody>\n",
       "</table>\n",
       "</div>"
      ],
      "text/plain": [
       "   total_bill   tip     sex smoker  day    time  size\n",
       "0       16.99  1.01  Female     No  Sun  Dinner     2\n",
       "1       10.34  1.66    Male     No  Sun  Dinner     3\n",
       "2       21.01  3.50    Male     No  Sun  Dinner     3\n",
       "3       23.68  3.31    Male     No  Sun  Dinner     2\n",
       "4       24.59  3.61  Female     No  Sun  Dinner     4"
      ]
     },
     "execution_count": 1,
     "metadata": {},
     "output_type": "execute_result"
    }
   ],
   "source": [
    "import seaborn                   # 데이타 (여기서 seaborn 그래프를 하는 것이 아니라 데이타만 필요)\n",
    "import matplotlib.pyplot as plt  # 그래프 라이브러리\n",
    "\n",
    "tips = seaborn.load_dataset('tips') # 팁을 지불한 손님의 정보 데이타\n",
    "tips.head()   # 지불금액 / 팁 / 성별 / 흡연 / 요일 / 시간대 / 인원수"
   ]
  },
  {
   "cell_type": "code",
   "execution_count": 2,
   "metadata": {},
   "outputs": [],
   "source": [
    "# 한글처리\n",
    "from matplotlib import font_manager, rc  # rc : resource\n",
    "fong_loc = \"c:/Windows/Fonts/malgun.ttf\" # 글꼴 경로\n",
    "font_name = font_manager.FontProperties(fname=fong_loc).get_name()\n",
    "# print(font_name) # 폰트매니저를 통해 인식하고 있는 글꼴 이름을 가져온다\n",
    "rc('font', family=font_name) # 리소스에 글꼴을 등록"
   ]
  },
  {
   "cell_type": "code",
   "execution_count": 3,
   "metadata": {
    "scrolled": true
   },
   "outputs": [
    {
     "data": {
      "text/plain": [
       "(array([ 7., 42., 68., 51., 31., 19., 12.,  7.,  3.,  4.]),\n",
       " array([ 3.07 ,  7.844, 12.618, 17.392, 22.166, 26.94 , 31.714, 36.488,\n",
       "        41.262, 46.036, 50.81 ]),\n",
       " <BarContainer object of 10 artists>)"
      ]
     },
     "execution_count": 3,
     "metadata": {},
     "output_type": "execute_result"
    },
    {
     "data": {
      "image/png": "[encoded data removed]",
      "text/plain": [
       "<Figure size 432x288 with 1 Axes>"
      ]
     },
     "metadata": {
      "needs_background": "light"
     },
     "output_type": "display_data"
    }
   ],
   "source": [
    "\"\"\"1. 일변량 그래프 - 하나의 변수만 사용한 그래프 \n",
    "\n",
    "- 히스토그램(수치변수)\n",
    "\n",
    "- 막대그래프(범주변수)\n",
    "\n",
    "  [예] 전체지불금액(total_bill)에 대한 그래프\n",
    "\"\"\"\n",
    "plt.hist(tips['total_bill'])\n",
    "# plt.hist(tips['total_bill'], bins=10)  # x 축의 단위 수\n",
    "# plt.hist(tips['total_bill'], bins=10, color='blue')\n",
    "# plt.title('전체지불금액')\n",
    "# plt.xlabel('빈도수')\n",
    "# plt.ylabel('지불금액')\n",
    "\n",
    "\n",
    "# figure(기본 틀)을 만들어서 출력도 가능\n",
    "# fig = plt.figure()\n",
    "# axes = fig.add_subplot(1,1,1)\n",
    "# axes.hist(tips['total_bill'])\n",
    "# axes.set_title('전체지불금액2')\n",
    "# axes.set_xlabel('빈도수2')\n",
    "# axes.set_ylabel('지불금액2')\n"
   ]
  },
  {
   "cell_type": "code",
   "execution_count": 4,
   "metadata": {},
   "outputs": [
    {
     "data": {
      "text/plain": [
       "<BarContainer object of 2 artists>"
      ]
     },
     "execution_count": 4,
     "metadata": {},
     "output_type": "execute_result"
    },
    {
     "data": {
      "image/png": "[encoded data removed]",
      "text/plain": [
       "<Figure size 432x288 with 1 Axes>"
      ]
     },
     "metadata": {
      "needs_background": "light"
     },
     "output_type": "display_data"
    }
   ],
   "source": [
    "\n",
    "# pyplot으로 bar chart 그리기 \n",
    "sex = tips['sex'].value_counts()\n",
    "# sex\n",
    "plt.bar(['Male', 'Female'],sex)\n",
    "# ( 이런경우는 그냥 판다스이용 하는 것이 나을 듯)\n",
    "# sex.plot(kind='bar')\n",
    "\n"
   ]
  },
  {
   "cell_type": "code",
   "execution_count": 4,
   "metadata": {},
   "outputs": [
    {
     "data": {
      "text/plain": [
       "Text(0, 0.5, '팁')"
      ]
     },
     "execution_count": 4,
     "metadata": {},
     "output_type": "execute_result"
    },
    {
     "data": {
      "image/png": "[encoded data removed]",
      "text/plain": [
       "<Figure size 432x288 with 1 Axes>"
      ]
     },
     "metadata": {
      "needs_background": "light"
     },
     "output_type": "display_data"
    }
   ],
   "source": [
    "\"\"\" 2. 이변량 그래프 - 변수 2개를 이용한 그래프 ( 산점도 그래프 )\n",
    "    [예] 지불금액에 따른 팁 금액을 나타내는 그래프\n",
    "\"\"\"\n",
    "plt.scatter(tips['total_bill'], tips['tip'])\n",
    "plt.title('지불 금액에 따른 팁')\n",
    "plt.xlabel('지불금액')\n",
    "plt.ylabel('팁')\n",
    "\n",
    "# fig = plt.figure()\n",
    "# axes = fig.add_subplot(1,1,1)    # fig.scatter()는 안됨\n",
    "# axes.scatter(tips['total_bill'], tips['tip'])\n",
    "# axes.set_title('지불 금액에 따른 팁2')\n",
    "# axes.set_xlabel('지불금액2')\n",
    "# axes.set_ylabel('팁2')"
   ]
  },
  {
   "cell_type": "code",
   "execution_count": 5,
   "metadata": {
    "scrolled": true
   },
   "outputs": [
    {
     "data": {
      "text/plain": [
       "'\\n   그래프를 분석할수 있어야 한다.\\n   최고 금액을 낸 사람이 남성이라고 남성이 여성보다 더 많이 팁을 준다고 할 수 있나?\\n   이상치들을 어떻게 처리할까?\\n   ( 이상치에 의해 평균값이 변경되기에 )\\n   \\n   예를 들어, 19대 국회의원 평균 재산\\n   최고 4명을 제외하면 평균 18억인데 최고 한명인 정몽준의원 포함하면 평균 재산이 100억이 넘는다.\\n   정몽준의원 신고 재산이 1조가 넘었기에\\n'"
      ]
     },
     "execution_count": 5,
     "metadata": {},
     "output_type": "execute_result"
    },
    {
     "data": {
      "image/png": "[encoded data removed]",
      "text/plain": [
       "<Figure size 432x288 with 1 Axes>"
      ]
     },
     "metadata": {
      "needs_background": "light"
     },
     "output_type": "display_data"
    }
   ],
   "source": [
    "\"\"\" 3. 이산형 변수와 연속형 변수 - 박스플롯\n",
    "    이산형 - 성별이나 국적처럼 명확하게 구분되는 값\n",
    "    연속형 - 수치로 이루어진 값\n",
    "\n",
    "    [예] 성별에 따른 팁을 나타내는 그래프\n",
    "\"\"\"\n",
    "\n",
    "female = tips[tips['sex']=='Female']['tip']\n",
    "female\n",
    "male = tips[tips['sex']=='Male']['tip']\n",
    "male\n",
    "\n",
    "plt.boxplot( [female, male] )\n",
    "plt.boxplot( [female, male], labels=['여자','남자'] )\n",
    "plt.title('성별에 따른 팁금액')\n",
    "plt.xlabel('성별')\n",
    "plt.ylabel('팁')\n",
    "\n",
    "# fig = plt.figure()\n",
    "# axes = fig.add_subplot(1,1,1)\n",
    "# axes.boxplot( [female, male], labels=['여자','남자'] )\n",
    "# axes.set_title('성별에 따른 팁금액2')\n",
    "# axes.set_xlabel('성별2')\n",
    "# axes.set_ylabel('팁2')\n",
    "\n",
    "\"\"\"\n",
    "   그래프를 분석할수 있어야 한다.\n",
    "   최고 금액을 낸 사람이 남성이라고 남성이 여성보다 더 많이 팁을 준다고 할 수 있나?\n",
    "   이상치들을 어떻게 처리할까?\n",
    "   ( 이상치에 의해 평균값이 변경되기에 )\n",
    "   \n",
    "   예를 들어, 19대 국회의원 평균 재산\n",
    "   최고 4명을 제외하면 평균 18억인데 최고 한명인 정몽준의원 포함하면 평균 재산이 100억이 넘는다.\n",
    "   정몽준의원 신고 재산이 1조가 넘었기에\n",
    "\"\"\""
   ]
  },
  {
   "cell_type": "code",
   "execution_count": 10,
   "metadata": {
    "scrolled": true
   },
   "outputs": [
    {
     "data": {
      "text/plain": [
       "Text(0, 0.5, 'Tip')"
      ]
     },
     "execution_count": 10,
     "metadata": {},
     "output_type": "execute_result"
    },
    {
     "data": {
      "image/png": "[encoded data removed]",
      "text/plain": [
       "<Figure size 432x288 with 1 Axes>"
      ]
     },
     "metadata": {
      "needs_background": "light"
     },
     "output_type": "display_data"
    }
   ],
   "source": [
    "\"\"\" 4. 다변량 그래프 - 3개 이상의 변수로 그래프 - 산점도 그래프\n",
    "\n",
    "      [예] 식사지불과 팁의 정도를 성별에 따라 그래프를 그린다면?\n",
    "      \n",
    "      * 성별의 문자열값을 0과 1로 변경하여 다른 색상으로 그리고자 한다\n",
    "\"\"\"\n",
    "\n",
    "# (1) 성별을 0과 1로 변환하는 함수 선언\n",
    "def gender(sex):\n",
    "    if sex=='Female':\n",
    "        return 0\n",
    "    else:\n",
    "        return 1\n",
    "\n",
    "# (2) 변경한 성별값의 변수(컬럼) 추가\n",
    "tips['sex_col'] = tips['sex'].apply(gender)\n",
    "\n",
    "# (1)(2) 한줄 표현\n",
    "# tips['sex_color'] = np.where(tips['sex']=='Female',0,1)\n",
    "\n",
    "# (3) 그래프 : x와 y 축, c=점의 색상, alpha=점의 투명도, s=점의 크기\n",
    "#    테이블당의 인원수를 점의 크기로 표현한다면 s=tips['size']*10 추가\n",
    "plt.scatter(x=tips['total_bill'],\n",
    "            y=tips['tip'],\n",
    "            c=tips['sex_color'],\n",
    "            alpha=0.5)\n",
    "plt.xlabel('Total Bill')\n",
    "plt.ylabel('Tip')"
   ]
  },
  {
   "cell_type": "code",
   "execution_count": 7,
   "metadata": {},
   "outputs": [
    {
     "data": {
      "text/plain": [
       "Text(0, 0.5, '팁')"
      ]
     },
     "execution_count": 7,
     "metadata": {},
     "output_type": "execute_result"
    },
    {
     "data": {
      "image/png": "[encoded data removed]",
      "text/plain": [
       "<Figure size 432x288 with 1 Axes>"
      ]
     },
     "metadata": {
      "needs_background": "light"
     },
     "output_type": "display_data"
    }
   ],
   "source": [
    "\"\"\" plt.scatter와 plt.plot \"\"\"\n",
    "\n",
    "# plt.plot(tips['total_bill'], tips['tip'],'o')\n",
    "# plt.title('지불 금액에 따른 팁')\n",
    "# plt.xlabel('지불금액')\n",
    "# plt.ylabel('팁')"
   ]
  }
 ],
 "metadata": {
  "kernelspec": {
   "display_name": "Python 3",
   "language": "python",
   "name": "python3"
  },
  "language_info": {
   "codemirror_mode": {
    "name": "ipython",
    "version": 3
   },
   "file_extension": ".py",
   "mimetype": "text/x-python",
   "name": "python",
   "nbconvert_exporter": "python",
   "pygments_lexer": "ipython3",
   "version": "3.8.8"
  }
 },
 "nbformat": 4,
 "nbformat_minor": 2
}
