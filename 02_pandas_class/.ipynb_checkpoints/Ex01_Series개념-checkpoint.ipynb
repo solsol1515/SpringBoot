{
 "cells": [
  {
   "cell_type": "markdown",
   "metadata": {},
   "source": [
    "## Series\n",
    "\n",
    "- DataFrame의 한 컬럼 데이터 세트\n",
    "\n",
    "- Series 역시 DataFrame의 인덱스와 동일한 인덱스를 가진다\n",
    "\n",
    "- 즉 Series는 컬럼이 하나인 데이타 구조체이고, DataFrame은 컬럼이 여러개인 데이타 구조체이다\n",
    "\n",
    "\n",
    "> DataFrame을 RDBMS의 테이블과 유사하다면, Series는 테이블의 한 컬럼과 유사다하고 볼 수 있다\n"
   ]
  },
  {
   "cell_type": "code",
   "execution_count": 1,
   "metadata": {},
   "outputs": [
    {
     "data": {
      "text/plain": [
       "0    22\n",
       "1    33\n",
       "2    44\n",
       "3    25\n",
       "4    28\n",
       "dtype: int64"
      ]
     },
     "execution_count": 1,
     "metadata": {},
     "output_type": "execute_result"
    }
   ],
   "source": [
    "# from pandas import Series\n",
    "# age_in = Series([22,33,44,25,28])\n",
    "\n",
    "import pandas as pd\n",
    "age_in = pd.Series([22,33,44,25,28])\n",
    "age_in                                # 자동으로 인덱스 잡힘 (0 ~ 4)"
   ]
  },
  {
   "cell_type": "code",
   "execution_count": 2,
   "metadata": {},
   "outputs": [
    {
     "data": {
      "text/plain": [
       "RangeIndex(start=0, stop=5, step=1)"
      ]
     },
     "execution_count": 2,
     "metadata": {},
     "output_type": "execute_result"
    }
   ],
   "source": [
    "age_in.index\n"
   ]
  },
  {
   "cell_type": "code",
   "execution_count": 3,
   "metadata": {},
   "outputs": [
    {
     "data": {
      "text/plain": [
       "array([22, 33, 44, 25, 28], dtype=int64)"
      ]
     },
     "execution_count": 3,
     "metadata": {},
     "output_type": "execute_result"
    }
   ],
   "source": [
    "age_in.values"
   ]
  },
  {
   "cell_type": "code",
   "execution_count": null,
   "metadata": {},
   "outputs": [],
   "source": []
  },
  {
   "cell_type": "markdown",
   "metadata": {},
   "source": [
    "인덱스 지정하며 시리즈 생성"
   ]
  },
  {
   "cell_type": "code",
   "execution_count": 4,
   "metadata": {
    "scrolled": false
   },
   "outputs": [
    {
     "data": {
      "text/plain": [
       "가    22\n",
       "나    33\n",
       "다    44\n",
       "라    25\n",
       "마    28\n",
       "dtype: int64"
      ]
     },
     "execution_count": 4,
     "metadata": {},
     "output_type": "execute_result"
    }
   ],
   "source": [
    "age_in = pd.Series([22,33,44,25,28], index=['가','나','다','라','마'])           # 인덱스 형태 변경\n",
    "age_in"
   ]
  },
  {
   "cell_type": "code",
   "execution_count": 6,
   "metadata": {},
   "outputs": [
    {
     "data": {
      "text/plain": [
       "가     22\n",
       "나     33\n",
       "다    100\n",
       "라     25\n",
       "마     28\n",
       "dtype: int64"
      ]
     },
     "execution_count": 6,
     "metadata": {},
     "output_type": "execute_result"
    }
   ],
   "source": [
    "age_in['다']=100              # 인덱스 '다' 찾아서 100 대입\n",
    "age_in"
   ]
  },
  {
   "cell_type": "code",
   "execution_count": 11,
   "metadata": {},
   "outputs": [
    {
     "name": "stdout",
     "output_type": "stream",
     "text": [
      "b    나\n",
      "b    다\n",
      "dtype: object\n",
      "가\n",
      "다\n"
     ]
    }
   ],
   "source": [
    "# Series 인덱스 중복 확인\n",
    "\n",
    "srs = pd.Series(['가','나','다'],index=['a','b','b'])          # 시리즈의 인덱스는 유일하지 않아도 된다\n",
    "\n",
    "srs['b']                                                       # 나, 다가 겹치지 않고 출력됨\n",
    "print(srs['b'])\n",
    "print(srs[0])\n",
    "print(srs[-1])"
   ]
  },
  {
   "cell_type": "markdown",
   "metadata": {},
   "source": [
    "딕셔러리를 시리즈 형태로 변환"
   ]
  },
  {
   "cell_type": "code",
   "execution_count": 13,
   "metadata": {},
   "outputs": [],
   "source": [
    "# 딕셔러리를 시리즈 형태로 변환\n",
    "info_list = { 'kim': 25, 'park':22, 'lee':34 }\n",
    "\n",
    "info_series = pd.Series(info_list)\n"
   ]
  },
  {
   "cell_type": "code",
   "execution_count": 14,
   "metadata": {},
   "outputs": [
    {
     "data": {
      "text/plain": [
       "kim     25\n",
       "park    22\n",
       "lee     34\n",
       "dtype: int64"
      ]
     },
     "execution_count": 14,
     "metadata": {},
     "output_type": "execute_result"
    }
   ],
   "source": [
    "info_series"
   ]
  },
  {
   "cell_type": "code",
   "execution_count": null,
   "metadata": {},
   "outputs": [],
   "source": []
  },
  {
   "cell_type": "code",
   "execution_count": null,
   "metadata": {},
   "outputs": [],
   "source": []
  },
  {
   "cell_type": "code",
   "execution_count": 4,
   "metadata": {},
   "outputs": [],
   "source": [
    "# 인덱스를 지정하면 -> NaN로\n",
    "# 이미 인덱스 역할을 할 요소가 있는데 index를 지정해서 그런가\n"
   ]
  },
  {
   "cell_type": "code",
   "execution_count": 5,
   "metadata": {
    "scrolled": true
   },
   "outputs": [],
   "source": [
    "## 가,나,다 요소에 A, B, C 인덱스를 가진 시리즈 생성\n"
   ]
  },
  {
   "cell_type": "markdown",
   "metadata": {},
   "source": [
    "##  Series 인덱스\n",
    "\n",
    "+ 리스트, 튜플의 index와  dict 의 key 와 유사\n",
    "\n",
    "+ 같은 값의 index 가 가능 ( 즉, 중복 가능 )\n",
    "\n",
    "\n",
    "-------------------------------------------------\n",
    "## 정리\n",
    "\n",
    "- 리스트 튜플 index : 일련번호로 변경불가 / 순서 개념이 있다\n",
    "\n",
    "- Series Index : 중복 가능 / 순서 개념이 있다\n",
    "\n",
    "- Dict key : 중복 불가 / 순서 개념 없다\n",
    "\n"
   ]
  },
  {
   "cell_type": "markdown",
   "metadata": {},
   "source": [
    "## 판다스를 사용하는 이유\n",
    "\n",
    "\n",
    "만일 파이썬의 리스트와 판다스의 Series가 거의 유사하다면, 우리는 왜 파이썬의 리스트가 아닌 판다스의 Series를 사용할까? \n",
    "\n",
    "파이썬의 리스트를 사용하면 판다스에서 제공하는 다양한 기능을 사용할 수 없기 때문이다."
   ]
  },
  {
   "cell_type": "code",
   "execution_count": 16,
   "metadata": {},
   "outputs": [
    {
     "data": {
      "text/plain": [
       "5.0"
      ]
     },
     "execution_count": 16,
     "metadata": {},
     "output_type": "execute_result"
    }
   ],
   "source": [
    "# 파이썬 리스트\n",
    "odd = [1,3,5,7,9]\n",
    "\n",
    "# 평균 (반복문)\n",
    "sum = 0\n",
    "for o in odd:\n",
    "    sum += o\n",
    "avg = sum / len(odd)\n",
    "avg"
   ]
  },
  {
   "cell_type": "code",
   "execution_count": 17,
   "metadata": {},
   "outputs": [
    {
     "data": {
      "text/plain": [
       "5.0"
      ]
     },
     "execution_count": 17,
     "metadata": {},
     "output_type": "execute_result"
    }
   ],
   "source": [
    "sr = pd.Series(odd)\n",
    "sr.mean()"
   ]
  },
  {
   "cell_type": "code",
   "execution_count": 18,
   "metadata": {},
   "outputs": [
    {
     "data": {
      "text/plain": [
       "<AxesSubplot:>"
      ]
     },
     "execution_count": 18,
     "metadata": {},
     "output_type": "execute_result"
    },
    {
     "data": {
      "image/png": "[encoded data removed]",
      "text/plain": [
       "<Figure size 640x480 with 1 Axes>"
      ]
     },
     "metadata": {},
     "output_type": "display_data"
    }
   ],
   "source": [
    "sr.plot()"
   ]
  }
 ],
 "metadata": {
  "kernelspec": {
   "display_name": "Python 3 (ipykernel)",
   "language": "python",
   "name": "python3"
  },
  "language_info": {
   "codemirror_mode": {
    "name": "ipython",
    "version": 3
   },
   "file_extension": ".py",
   "mimetype": "text/x-python",
   "name": "python",
   "nbconvert_exporter": "python",
   "pygments_lexer": "ipython3",
   "version": "3.9.13"
  }
 },
 "nbformat": 4,
 "nbformat_minor": 2
}
