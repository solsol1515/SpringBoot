{
 "cells": [
  {
   "cell_type": "markdown",
   "id": "8595093e",
   "metadata": {},
   "source": [
    "## 쉘모드 변경\n",
    "\n",
    "+ code 쉘로 변경 :  esc > y\n",
    "+ markdown 쉘로 변경 : esc > m"
   ]
  },
  {
   "cell_type": "markdown",
   "id": "06715d1e",
   "metadata": {},
   "source": [
    "* 별 하나 : 번호 없는 목록\n",
    "* *별 1개(감싸기): 기울이기(주의! 별표와 공백없이 사용해야함!)* *\n",
    "* **별 2개(감싸기): 굵게**\n",
    "* ***별3개(감싸기): 굵게 & 기울이기***\n",
    "---\n",
    "* 가로선: ---\n",
    "\n",
    "---\n",
    "\n",
    "안녕하세요 날도 추운데 그냥 집에 보내주시죠 \n",
    "집에서 이불 덮고 귤이나 까먹고 싶네용\n",
    "\n",
    "> 안녕\n",
    "> 하이\n"
   ]
  },
  {
   "cell_type": "markdown",
   "id": "f695f9bb",
   "metadata": {},
   "source": [
    "<div align='center'>헬로우 월드</div>\n",
    "\n",
    "<img src='dataset/puppy.jpg'>\n",
    "\n",
    "[링크걸기](http://www.google.com)\n",
    "\n",
    "[![](https://www.google.com/logos/doodles/2022/seasonal-holidays-2022-6753651837109831.4-law.gif)](http://google.com)"
   ]
  },
  {
   "cell_type": "markdown",
   "id": "47d5ecd9",
   "metadata": {},
   "source": [
    "<table border='1'>\n",
    "<tr>\n",
    "    <td>인덱스</td>\n",
    "    <td>값</td>\n",
    "</tr>\n",
    "<tr>\n",
    "    <td>변수</td>\n",
    "    <td>데이터</td>\n",
    "</tr>\n",
    "</table>"
   ]
  },
  {
   "cell_type": "code",
   "execution_count": 1,
   "id": "3635d36c",
   "metadata": {},
   "outputs": [],
   "source": [
    "import pandas\n",
    "\n",
    "p = pandas.read_csv('./dataset/subway_data1.csv',encoding='utf-8')"
   ]
  },
  {
   "cell_type": "code",
   "execution_count": 2,
   "id": "210cb882",
   "metadata": {},
   "outputs": [
    {
     "data": {
      "text/html": [
       "<div>\n",
       "<style scoped>\n",
       "    .dataframe tbody tr th:only-of-type {\n",
       "        vertical-align: middle;\n",
       "    }\n",
       "\n",
       "    .dataframe tbody tr th {\n",
       "        vertical-align: top;\n",
       "    }\n",
       "\n",
       "    .dataframe thead th {\n",
       "        text-align: right;\n",
       "    }\n",
       "</style>\n",
       "<table border=\"1\" class=\"dataframe\">\n",
       "  <thead>\n",
       "    <tr style=\"text-align: right;\">\n",
       "      <th></th>\n",
       "      <th>구 분</th>\n",
       "      <th>역명</th>\n",
       "      <th>총계</th>\n",
       "      <th>일평균</th>\n",
       "    </tr>\n",
       "  </thead>\n",
       "  <tbody>\n",
       "    <tr>\n",
       "      <th>0</th>\n",
       "      <td>1호선</td>\n",
       "      <td>서울역</td>\n",
       "      <td>11,933,924</td>\n",
       "      <td>132,599</td>\n",
       "    </tr>\n",
       "    <tr>\n",
       "      <th>1</th>\n",
       "      <td>1호선</td>\n",
       "      <td>시청역</td>\n",
       "      <td>4,221,693</td>\n",
       "      <td>46,908</td>\n",
       "    </tr>\n",
       "    <tr>\n",
       "      <th>2</th>\n",
       "      <td>1호선</td>\n",
       "      <td>종각역</td>\n",
       "      <td>8,441,749</td>\n",
       "      <td>93,797</td>\n",
       "    </tr>\n",
       "    <tr>\n",
       "      <th>3</th>\n",
       "      <td>1호선</td>\n",
       "      <td>종로3가역</td>\n",
       "      <td>6,725,558</td>\n",
       "      <td>74,728</td>\n",
       "    </tr>\n",
       "    <tr>\n",
       "      <th>4</th>\n",
       "      <td>1호선</td>\n",
       "      <td>종로5가역</td>\n",
       "      <td>5,038,305</td>\n",
       "      <td>55,981</td>\n",
       "    </tr>\n",
       "    <tr>\n",
       "      <th>...</th>\n",
       "      <td>...</td>\n",
       "      <td>...</td>\n",
       "      <td>...</td>\n",
       "      <td>...</td>\n",
       "    </tr>\n",
       "    <tr>\n",
       "      <th>90</th>\n",
       "      <td>4호선</td>\n",
       "      <td>이촌역</td>\n",
       "      <td>1,792,511</td>\n",
       "      <td>19,917</td>\n",
       "    </tr>\n",
       "    <tr>\n",
       "      <th>91</th>\n",
       "      <td>4호선</td>\n",
       "      <td>동작역</td>\n",
       "      <td>523,615</td>\n",
       "      <td>5,818</td>\n",
       "    </tr>\n",
       "    <tr>\n",
       "      <th>92</th>\n",
       "      <td>4호선</td>\n",
       "      <td>총신대입구역</td>\n",
       "      <td>4,398,897</td>\n",
       "      <td>48,877</td>\n",
       "    </tr>\n",
       "    <tr>\n",
       "      <th>93</th>\n",
       "      <td>4호선</td>\n",
       "      <td>사당역</td>\n",
       "      <td>5,459,335</td>\n",
       "      <td>60,659</td>\n",
       "    </tr>\n",
       "    <tr>\n",
       "      <th>94</th>\n",
       "      <td>4호선</td>\n",
       "      <td>남태령역</td>\n",
       "      <td>206,457</td>\n",
       "      <td>2,294</td>\n",
       "    </tr>\n",
       "  </tbody>\n",
       "</table>\n",
       "<p>95 rows × 4 columns</p>\n",
       "</div>"
      ],
      "text/plain": [
       "    구 분      역명          총계      일평균\n",
       "0   1호선     서울역  11,933,924  132,599\n",
       "1   1호선     시청역   4,221,693   46,908\n",
       "2   1호선     종각역   8,441,749   93,797\n",
       "3   1호선   종로3가역   6,725,558   74,728\n",
       "4   1호선   종로5가역   5,038,305   55,981\n",
       "..  ...     ...         ...      ...\n",
       "90  4호선     이촌역   1,792,511   19,917\n",
       "91  4호선     동작역     523,615    5,818\n",
       "92  4호선  총신대입구역   4,398,897   48,877\n",
       "93  4호선     사당역   5,459,335   60,659\n",
       "94  4호선    남태령역     206,457    2,294\n",
       "\n",
       "[95 rows x 4 columns]"
      ]
     },
     "execution_count": 2,
     "metadata": {},
     "output_type": "execute_result"
    }
   ],
   "source": [
    "p"
   ]
  },
  {
   "cell_type": "markdown",
   "id": "6800c20d",
   "metadata": {},
   "source": [
    "## <font color='green'>[참고] 서울 지하철</font>\n",
    "\n",
    "<img src='dataset/map_subway.jpg'>"
   ]
  }
 ],
 "metadata": {
  "kernelspec": {
   "display_name": "Python 3 (ipykernel)",
   "language": "python",
   "name": "python3"
  },
  "language_info": {
   "codemirror_mode": {
    "name": "ipython",
    "version": 3
   },
   "file_extension": ".py",
   "mimetype": "text/x-python",
   "name": "python",
   "nbconvert_exporter": "python",
   "pygments_lexer": "ipython3",
   "version": "3.9.13"
  }
 },
 "nbformat": 4,
 "nbformat_minor": 5
}
